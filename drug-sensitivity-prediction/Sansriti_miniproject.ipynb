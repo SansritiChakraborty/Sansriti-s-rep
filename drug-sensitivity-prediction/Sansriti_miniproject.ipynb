{
  "cells": [
    {
      "cell_type": "code",
      "execution_count": null,
      "metadata": {
        "id": "uIFGh-B9MGFr"
      },
      "outputs": [],
      "source": [
        "import numpy as np\n",
        "import pandas as pd\n",
        "import matplotlib.pyplot as plt\n",
        "import seaborn as sns\n",
        "import warnings\n",
        "warnings.filterwarnings('ignore')"
      ]
    },
    {
      "cell_type": "code",
      "execution_count": null,
      "metadata": {
        "id": "Z0GrRTQ3b5Ns"
      },
      "outputs": [],
      "source": [
        "gdsc=pd.read_excel('/content/GDSC1_fitted_dose_response_27Oct23.xlsx')"
      ]
    },
    {
      "cell_type": "code",
      "execution_count": null,
      "metadata": {
        "colab": {
          "base_uri": "https://localhost:8080/",
          "height": 313
        },
        "id": "y3eOvG5WcgQt",
        "outputId": "48dbee4b-0438-4f15-b696-d92ac769eea3"
      },
      "outputs": [
        {
          "data": {
            "application/vnd.google.colaboratory.intrinsic+json": {
              "type": "dataframe",
              "variable_name": "gdsc"
            },
            "text/html": [
              "\n",
              "  <div id=\"df-54c89efe-2efd-42f3-b6b8-063fcab6b570\" class=\"colab-df-container\">\n",
              "    <div>\n",
              "<style scoped>\n",
              "    .dataframe tbody tr th:only-of-type {\n",
              "        vertical-align: middle;\n",
              "    }\n",
              "\n",
              "    .dataframe tbody tr th {\n",
              "        vertical-align: top;\n",
              "    }\n",
              "\n",
              "    .dataframe thead th {\n",
              "        text-align: right;\n",
              "    }\n",
              "</style>\n",
              "<table border=\"1\" class=\"dataframe\">\n",
              "  <thead>\n",
              "    <tr style=\"text-align: right;\">\n",
              "      <th></th>\n",
              "      <th>DATASET</th>\n",
              "      <th>NLME_RESULT_ID</th>\n",
              "      <th>NLME_CURVE_ID</th>\n",
              "      <th>COSMIC_ID</th>\n",
              "      <th>CELL_LINE_NAME</th>\n",
              "      <th>SANGER_MODEL_ID</th>\n",
              "      <th>TCGA_DESC</th>\n",
              "      <th>DRUG_ID</th>\n",
              "      <th>DRUG_NAME</th>\n",
              "      <th>PUTATIVE_TARGET</th>\n",
              "      <th>PATHWAY_NAME</th>\n",
              "      <th>COMPANY_ID</th>\n",
              "      <th>WEBRELEASE</th>\n",
              "      <th>MIN_CONC</th>\n",
              "      <th>MAX_CONC</th>\n",
              "      <th>LN_IC50</th>\n",
              "      <th>AUC</th>\n",
              "      <th>RMSE</th>\n",
              "      <th>Z_SCORE</th>\n",
              "    </tr>\n",
              "  </thead>\n",
              "  <tbody>\n",
              "    <tr>\n",
              "      <th>0</th>\n",
              "      <td>GDSC1</td>\n",
              "      <td>342</td>\n",
              "      <td>15580432</td>\n",
              "      <td>684057</td>\n",
              "      <td>ES5</td>\n",
              "      <td>SIDM00263</td>\n",
              "      <td>UNCLASSIFIED</td>\n",
              "      <td>1</td>\n",
              "      <td>Erlotinib</td>\n",
              "      <td>EGFR</td>\n",
              "      <td>EGFR signaling</td>\n",
              "      <td>1045</td>\n",
              "      <td>Y</td>\n",
              "      <td>0.007813</td>\n",
              "      <td>2.0</td>\n",
              "      <td>3.966813</td>\n",
              "      <td>0.985678</td>\n",
              "      <td>0.026081</td>\n",
              "      <td>1.299144</td>\n",
              "    </tr>\n",
              "    <tr>\n",
              "      <th>1</th>\n",
              "      <td>GDSC1</td>\n",
              "      <td>342</td>\n",
              "      <td>15580806</td>\n",
              "      <td>684059</td>\n",
              "      <td>ES7</td>\n",
              "      <td>SIDM00269</td>\n",
              "      <td>UNCLASSIFIED</td>\n",
              "      <td>1</td>\n",
              "      <td>Erlotinib</td>\n",
              "      <td>EGFR</td>\n",
              "      <td>EGFR signaling</td>\n",
              "      <td>1045</td>\n",
              "      <td>Y</td>\n",
              "      <td>0.007813</td>\n",
              "      <td>2.0</td>\n",
              "      <td>2.692090</td>\n",
              "      <td>0.972690</td>\n",
              "      <td>0.110059</td>\n",
              "      <td>0.156076</td>\n",
              "    </tr>\n",
              "    <tr>\n",
              "      <th>2</th>\n",
              "      <td>GDSC1</td>\n",
              "      <td>342</td>\n",
              "      <td>15581198</td>\n",
              "      <td>684062</td>\n",
              "      <td>EW-11</td>\n",
              "      <td>SIDM00203</td>\n",
              "      <td>UNCLASSIFIED</td>\n",
              "      <td>1</td>\n",
              "      <td>Erlotinib</td>\n",
              "      <td>EGFR</td>\n",
              "      <td>EGFR signaling</td>\n",
              "      <td>1045</td>\n",
              "      <td>Y</td>\n",
              "      <td>0.007813</td>\n",
              "      <td>2.0</td>\n",
              "      <td>2.477990</td>\n",
              "      <td>0.944459</td>\n",
              "      <td>0.087019</td>\n",
              "      <td>-0.035912</td>\n",
              "    </tr>\n",
              "    <tr>\n",
              "      <th>3</th>\n",
              "      <td>GDSC1</td>\n",
              "      <td>342</td>\n",
              "      <td>15581542</td>\n",
              "      <td>684072</td>\n",
              "      <td>SK-ES-1</td>\n",
              "      <td>SIDM01111</td>\n",
              "      <td>UNCLASSIFIED</td>\n",
              "      <td>1</td>\n",
              "      <td>Erlotinib</td>\n",
              "      <td>EGFR</td>\n",
              "      <td>EGFR signaling</td>\n",
              "      <td>1045</td>\n",
              "      <td>Y</td>\n",
              "      <td>0.007813</td>\n",
              "      <td>2.0</td>\n",
              "      <td>2.033564</td>\n",
              "      <td>0.950758</td>\n",
              "      <td>0.016290</td>\n",
              "      <td>-0.434437</td>\n",
              "    </tr>\n",
              "    <tr>\n",
              "      <th>4</th>\n",
              "      <td>GDSC1</td>\n",
              "      <td>342</td>\n",
              "      <td>15581930</td>\n",
              "      <td>687448</td>\n",
              "      <td>COLO-829</td>\n",
              "      <td>SIDM00909</td>\n",
              "      <td>SKCM</td>\n",
              "      <td>1</td>\n",
              "      <td>Erlotinib</td>\n",
              "      <td>EGFR</td>\n",
              "      <td>EGFR signaling</td>\n",
              "      <td>1045</td>\n",
              "      <td>Y</td>\n",
              "      <td>0.007813</td>\n",
              "      <td>2.0</td>\n",
              "      <td>2.966007</td>\n",
              "      <td>0.954778</td>\n",
              "      <td>0.180255</td>\n",
              "      <td>0.401702</td>\n",
              "    </tr>\n",
              "  </tbody>\n",
              "</table>\n",
              "</div>\n",
              "    <div class=\"colab-df-buttons\">\n",
              "\n",
              "  <div class=\"colab-df-container\">\n",
              "    <button class=\"colab-df-convert\" onclick=\"convertToInteractive('df-54c89efe-2efd-42f3-b6b8-063fcab6b570')\"\n",
              "            title=\"Convert this dataframe to an interactive table.\"\n",
              "            style=\"display:none;\">\n",
              "\n",
              "  <svg xmlns=\"http://www.w3.org/2000/svg\" height=\"24px\" viewBox=\"0 -960 960 960\">\n",
              "    <path d=\"M120-120v-720h720v720H120Zm60-500h600v-160H180v160Zm220 220h160v-160H400v160Zm0 220h160v-160H400v160ZM180-400h160v-160H180v160Zm440 0h160v-160H620v160ZM180-180h160v-160H180v160Zm440 0h160v-160H620v160Z\"/>\n",
              "  </svg>\n",
              "    </button>\n",
              "\n",
              "  <style>\n",
              "    .colab-df-container {\n",
              "      display:flex;\n",
              "      gap: 12px;\n",
              "    }\n",
              "\n",
              "    .colab-df-convert {\n",
              "      background-color: #E8F0FE;\n",
              "      border: none;\n",
              "      border-radius: 50%;\n",
              "      cursor: pointer;\n",
              "      display: none;\n",
              "      fill: #1967D2;\n",
              "      height: 32px;\n",
              "      padding: 0 0 0 0;\n",
              "      width: 32px;\n",
              "    }\n",
              "\n",
              "    .colab-df-convert:hover {\n",
              "      background-color: #E2EBFA;\n",
              "      box-shadow: 0px 1px 2px rgba(60, 64, 67, 0.3), 0px 1px 3px 1px rgba(60, 64, 67, 0.15);\n",
              "      fill: #174EA6;\n",
              "    }\n",
              "\n",
              "    .colab-df-buttons div {\n",
              "      margin-bottom: 4px;\n",
              "    }\n",
              "\n",
              "    [theme=dark] .colab-df-convert {\n",
              "      background-color: #3B4455;\n",
              "      fill: #D2E3FC;\n",
              "    }\n",
              "\n",
              "    [theme=dark] .colab-df-convert:hover {\n",
              "      background-color: #434B5C;\n",
              "      box-shadow: 0px 1px 3px 1px rgba(0, 0, 0, 0.15);\n",
              "      filter: drop-shadow(0px 1px 2px rgba(0, 0, 0, 0.3));\n",
              "      fill: #FFFFFF;\n",
              "    }\n",
              "  </style>\n",
              "\n",
              "    <script>\n",
              "      const buttonEl =\n",
              "        document.querySelector('#df-54c89efe-2efd-42f3-b6b8-063fcab6b570 button.colab-df-convert');\n",
              "      buttonEl.style.display =\n",
              "        google.colab.kernel.accessAllowed ? 'block' : 'none';\n",
              "\n",
              "      async function convertToInteractive(key) {\n",
              "        const element = document.querySelector('#df-54c89efe-2efd-42f3-b6b8-063fcab6b570');\n",
              "        const dataTable =\n",
              "          await google.colab.kernel.invokeFunction('convertToInteractive',\n",
              "                                                    [key], {});\n",
              "        if (!dataTable) return;\n",
              "\n",
              "        const docLinkHtml = 'Like what you see? Visit the ' +\n",
              "          '<a target=\"_blank\" href=https://colab.research.google.com/notebooks/data_table.ipynb>data table notebook</a>'\n",
              "          + ' to learn more about interactive tables.';\n",
              "        element.innerHTML = '';\n",
              "        dataTable['output_type'] = 'display_data';\n",
              "        await google.colab.output.renderOutput(dataTable, element);\n",
              "        const docLink = document.createElement('div');\n",
              "        docLink.innerHTML = docLinkHtml;\n",
              "        element.appendChild(docLink);\n",
              "      }\n",
              "    </script>\n",
              "  </div>\n",
              "\n",
              "\n",
              "    <div id=\"df-6c5a710e-013a-4634-ac02-d8e8905d1d68\">\n",
              "      <button class=\"colab-df-quickchart\" onclick=\"quickchart('df-6c5a710e-013a-4634-ac02-d8e8905d1d68')\"\n",
              "                title=\"Suggest charts\"\n",
              "                style=\"display:none;\">\n",
              "\n",
              "<svg xmlns=\"http://www.w3.org/2000/svg\" height=\"24px\"viewBox=\"0 0 24 24\"\n",
              "     width=\"24px\">\n",
              "    <g>\n",
              "        <path d=\"M19 3H5c-1.1 0-2 .9-2 2v14c0 1.1.9 2 2 2h14c1.1 0 2-.9 2-2V5c0-1.1-.9-2-2-2zM9 17H7v-7h2v7zm4 0h-2V7h2v10zm4 0h-2v-4h2v4z\"/>\n",
              "    </g>\n",
              "</svg>\n",
              "      </button>\n",
              "\n",
              "<style>\n",
              "  .colab-df-quickchart {\n",
              "      --bg-color: #E8F0FE;\n",
              "      --fill-color: #1967D2;\n",
              "      --hover-bg-color: #E2EBFA;\n",
              "      --hover-fill-color: #174EA6;\n",
              "      --disabled-fill-color: #AAA;\n",
              "      --disabled-bg-color: #DDD;\n",
              "  }\n",
              "\n",
              "  [theme=dark] .colab-df-quickchart {\n",
              "      --bg-color: #3B4455;\n",
              "      --fill-color: #D2E3FC;\n",
              "      --hover-bg-color: #434B5C;\n",
              "      --hover-fill-color: #FFFFFF;\n",
              "      --disabled-bg-color: #3B4455;\n",
              "      --disabled-fill-color: #666;\n",
              "  }\n",
              "\n",
              "  .colab-df-quickchart {\n",
              "    background-color: var(--bg-color);\n",
              "    border: none;\n",
              "    border-radius: 50%;\n",
              "    cursor: pointer;\n",
              "    display: none;\n",
              "    fill: var(--fill-color);\n",
              "    height: 32px;\n",
              "    padding: 0;\n",
              "    width: 32px;\n",
              "  }\n",
              "\n",
              "  .colab-df-quickchart:hover {\n",
              "    background-color: var(--hover-bg-color);\n",
              "    box-shadow: 0 1px 2px rgba(60, 64, 67, 0.3), 0 1px 3px 1px rgba(60, 64, 67, 0.15);\n",
              "    fill: var(--button-hover-fill-color);\n",
              "  }\n",
              "\n",
              "  .colab-df-quickchart-complete:disabled,\n",
              "  .colab-df-quickchart-complete:disabled:hover {\n",
              "    background-color: var(--disabled-bg-color);\n",
              "    fill: var(--disabled-fill-color);\n",
              "    box-shadow: none;\n",
              "  }\n",
              "\n",
              "  .colab-df-spinner {\n",
              "    border: 2px solid var(--fill-color);\n",
              "    border-color: transparent;\n",
              "    border-bottom-color: var(--fill-color);\n",
              "    animation:\n",
              "      spin 1s steps(1) infinite;\n",
              "  }\n",
              "\n",
              "  @keyframes spin {\n",
              "    0% {\n",
              "      border-color: transparent;\n",
              "      border-bottom-color: var(--fill-color);\n",
              "      border-left-color: var(--fill-color);\n",
              "    }\n",
              "    20% {\n",
              "      border-color: transparent;\n",
              "      border-left-color: var(--fill-color);\n",
              "      border-top-color: var(--fill-color);\n",
              "    }\n",
              "    30% {\n",
              "      border-color: transparent;\n",
              "      border-left-color: var(--fill-color);\n",
              "      border-top-color: var(--fill-color);\n",
              "      border-right-color: var(--fill-color);\n",
              "    }\n",
              "    40% {\n",
              "      border-color: transparent;\n",
              "      border-right-color: var(--fill-color);\n",
              "      border-top-color: var(--fill-color);\n",
              "    }\n",
              "    60% {\n",
              "      border-color: transparent;\n",
              "      border-right-color: var(--fill-color);\n",
              "    }\n",
              "    80% {\n",
              "      border-color: transparent;\n",
              "      border-right-color: var(--fill-color);\n",
              "      border-bottom-color: var(--fill-color);\n",
              "    }\n",
              "    90% {\n",
              "      border-color: transparent;\n",
              "      border-bottom-color: var(--fill-color);\n",
              "    }\n",
              "  }\n",
              "</style>\n",
              "\n",
              "      <script>\n",
              "        async function quickchart(key) {\n",
              "          const quickchartButtonEl =\n",
              "            document.querySelector('#' + key + ' button');\n",
              "          quickchartButtonEl.disabled = true;  // To prevent multiple clicks.\n",
              "          quickchartButtonEl.classList.add('colab-df-spinner');\n",
              "          try {\n",
              "            const charts = await google.colab.kernel.invokeFunction(\n",
              "                'suggestCharts', [key], {});\n",
              "          } catch (error) {\n",
              "            console.error('Error during call to suggestCharts:', error);\n",
              "          }\n",
              "          quickchartButtonEl.classList.remove('colab-df-spinner');\n",
              "          quickchartButtonEl.classList.add('colab-df-quickchart-complete');\n",
              "        }\n",
              "        (() => {\n",
              "          let quickchartButtonEl =\n",
              "            document.querySelector('#df-6c5a710e-013a-4634-ac02-d8e8905d1d68 button');\n",
              "          quickchartButtonEl.style.display =\n",
              "            google.colab.kernel.accessAllowed ? 'block' : 'none';\n",
              "        })();\n",
              "      </script>\n",
              "    </div>\n",
              "\n",
              "    </div>\n",
              "  </div>\n"
            ],
            "text/plain": [
              "  DATASET  NLME_RESULT_ID  NLME_CURVE_ID  COSMIC_ID CELL_LINE_NAME  \\\n",
              "0   GDSC1             342       15580432     684057            ES5   \n",
              "1   GDSC1             342       15580806     684059            ES7   \n",
              "2   GDSC1             342       15581198     684062          EW-11   \n",
              "3   GDSC1             342       15581542     684072        SK-ES-1   \n",
              "4   GDSC1             342       15581930     687448       COLO-829   \n",
              "\n",
              "  SANGER_MODEL_ID     TCGA_DESC  DRUG_ID  DRUG_NAME PUTATIVE_TARGET  \\\n",
              "0       SIDM00263  UNCLASSIFIED        1  Erlotinib            EGFR   \n",
              "1       SIDM00269  UNCLASSIFIED        1  Erlotinib            EGFR   \n",
              "2       SIDM00203  UNCLASSIFIED        1  Erlotinib            EGFR   \n",
              "3       SIDM01111  UNCLASSIFIED        1  Erlotinib            EGFR   \n",
              "4       SIDM00909          SKCM        1  Erlotinib            EGFR   \n",
              "\n",
              "     PATHWAY_NAME  COMPANY_ID WEBRELEASE  MIN_CONC  MAX_CONC   LN_IC50  \\\n",
              "0  EGFR signaling        1045          Y  0.007813       2.0  3.966813   \n",
              "1  EGFR signaling        1045          Y  0.007813       2.0  2.692090   \n",
              "2  EGFR signaling        1045          Y  0.007813       2.0  2.477990   \n",
              "3  EGFR signaling        1045          Y  0.007813       2.0  2.033564   \n",
              "4  EGFR signaling        1045          Y  0.007813       2.0  2.966007   \n",
              "\n",
              "        AUC      RMSE   Z_SCORE  \n",
              "0  0.985678  0.026081  1.299144  \n",
              "1  0.972690  0.110059  0.156076  \n",
              "2  0.944459  0.087019 -0.035912  \n",
              "3  0.950758  0.016290 -0.434437  \n",
              "4  0.954778  0.180255  0.401702  "
            ]
          },
          "execution_count": 3,
          "metadata": {},
          "output_type": "execute_result"
        }
      ],
      "source": [
        "gdsc.head()"
      ]
    },
    {
      "cell_type": "code",
      "execution_count": null,
      "metadata": {
        "colab": {
          "base_uri": "https://localhost:8080/"
        },
        "id": "1HDRSNQvcyho",
        "outputId": "7332158e-a7d5-43ba-e1f1-5df3d7fdc425"
      },
      "outputs": [
        {
          "data": {
            "text/plain": [
              "array(['GDSC1'], dtype=object)"
            ]
          },
          "execution_count": 4,
          "metadata": {},
          "output_type": "execute_result"
        }
      ],
      "source": [
        "gdsc['DATASET'].unique()"
      ]
    },
    {
      "cell_type": "markdown",
      "metadata": {
        "id": "GJ8kdZwVnLZ4"
      },
      "source": [
        "**STEP 1: Copy the dataset to perform necessary operations**"
      ]
    },
    {
      "cell_type": "code",
      "execution_count": null,
      "metadata": {
        "colab": {
          "base_uri": "https://localhost:8080/",
          "height": 313
        },
        "id": "wXyxih3uc6sU",
        "outputId": "06cf8461-0c15-4766-fb19-19b699f733fb"
      },
      "outputs": [
        {
          "data": {
            "application/vnd.google.colaboratory.intrinsic+json": {
              "type": "dataframe",
              "variable_name": "df"
            },
            "text/html": [
              "\n",
              "  <div id=\"df-4507eb3d-8a48-4f85-9f3b-d29c48ddace1\" class=\"colab-df-container\">\n",
              "    <div>\n",
              "<style scoped>\n",
              "    .dataframe tbody tr th:only-of-type {\n",
              "        vertical-align: middle;\n",
              "    }\n",
              "\n",
              "    .dataframe tbody tr th {\n",
              "        vertical-align: top;\n",
              "    }\n",
              "\n",
              "    .dataframe thead th {\n",
              "        text-align: right;\n",
              "    }\n",
              "</style>\n",
              "<table border=\"1\" class=\"dataframe\">\n",
              "  <thead>\n",
              "    <tr style=\"text-align: right;\">\n",
              "      <th></th>\n",
              "      <th>DATASET</th>\n",
              "      <th>NLME_RESULT_ID</th>\n",
              "      <th>NLME_CURVE_ID</th>\n",
              "      <th>COSMIC_ID</th>\n",
              "      <th>CELL_LINE_NAME</th>\n",
              "      <th>SANGER_MODEL_ID</th>\n",
              "      <th>TCGA_DESC</th>\n",
              "      <th>DRUG_ID</th>\n",
              "      <th>DRUG_NAME</th>\n",
              "      <th>PUTATIVE_TARGET</th>\n",
              "      <th>PATHWAY_NAME</th>\n",
              "      <th>COMPANY_ID</th>\n",
              "      <th>WEBRELEASE</th>\n",
              "      <th>MIN_CONC</th>\n",
              "      <th>MAX_CONC</th>\n",
              "      <th>LN_IC50</th>\n",
              "      <th>AUC</th>\n",
              "      <th>RMSE</th>\n",
              "      <th>Z_SCORE</th>\n",
              "    </tr>\n",
              "  </thead>\n",
              "  <tbody>\n",
              "    <tr>\n",
              "      <th>0</th>\n",
              "      <td>GDSC1</td>\n",
              "      <td>342</td>\n",
              "      <td>15580432</td>\n",
              "      <td>684057</td>\n",
              "      <td>ES5</td>\n",
              "      <td>SIDM00263</td>\n",
              "      <td>UNCLASSIFIED</td>\n",
              "      <td>1</td>\n",
              "      <td>Erlotinib</td>\n",
              "      <td>EGFR</td>\n",
              "      <td>EGFR signaling</td>\n",
              "      <td>1045</td>\n",
              "      <td>Y</td>\n",
              "      <td>0.007813</td>\n",
              "      <td>2.0</td>\n",
              "      <td>3.966813</td>\n",
              "      <td>0.985678</td>\n",
              "      <td>0.026081</td>\n",
              "      <td>1.299144</td>\n",
              "    </tr>\n",
              "    <tr>\n",
              "      <th>1</th>\n",
              "      <td>GDSC1</td>\n",
              "      <td>342</td>\n",
              "      <td>15580806</td>\n",
              "      <td>684059</td>\n",
              "      <td>ES7</td>\n",
              "      <td>SIDM00269</td>\n",
              "      <td>UNCLASSIFIED</td>\n",
              "      <td>1</td>\n",
              "      <td>Erlotinib</td>\n",
              "      <td>EGFR</td>\n",
              "      <td>EGFR signaling</td>\n",
              "      <td>1045</td>\n",
              "      <td>Y</td>\n",
              "      <td>0.007813</td>\n",
              "      <td>2.0</td>\n",
              "      <td>2.692090</td>\n",
              "      <td>0.972690</td>\n",
              "      <td>0.110059</td>\n",
              "      <td>0.156076</td>\n",
              "    </tr>\n",
              "    <tr>\n",
              "      <th>2</th>\n",
              "      <td>GDSC1</td>\n",
              "      <td>342</td>\n",
              "      <td>15581198</td>\n",
              "      <td>684062</td>\n",
              "      <td>EW-11</td>\n",
              "      <td>SIDM00203</td>\n",
              "      <td>UNCLASSIFIED</td>\n",
              "      <td>1</td>\n",
              "      <td>Erlotinib</td>\n",
              "      <td>EGFR</td>\n",
              "      <td>EGFR signaling</td>\n",
              "      <td>1045</td>\n",
              "      <td>Y</td>\n",
              "      <td>0.007813</td>\n",
              "      <td>2.0</td>\n",
              "      <td>2.477990</td>\n",
              "      <td>0.944459</td>\n",
              "      <td>0.087019</td>\n",
              "      <td>-0.035912</td>\n",
              "    </tr>\n",
              "    <tr>\n",
              "      <th>3</th>\n",
              "      <td>GDSC1</td>\n",
              "      <td>342</td>\n",
              "      <td>15581542</td>\n",
              "      <td>684072</td>\n",
              "      <td>SK-ES-1</td>\n",
              "      <td>SIDM01111</td>\n",
              "      <td>UNCLASSIFIED</td>\n",
              "      <td>1</td>\n",
              "      <td>Erlotinib</td>\n",
              "      <td>EGFR</td>\n",
              "      <td>EGFR signaling</td>\n",
              "      <td>1045</td>\n",
              "      <td>Y</td>\n",
              "      <td>0.007813</td>\n",
              "      <td>2.0</td>\n",
              "      <td>2.033564</td>\n",
              "      <td>0.950758</td>\n",
              "      <td>0.016290</td>\n",
              "      <td>-0.434437</td>\n",
              "    </tr>\n",
              "    <tr>\n",
              "      <th>4</th>\n",
              "      <td>GDSC1</td>\n",
              "      <td>342</td>\n",
              "      <td>15581930</td>\n",
              "      <td>687448</td>\n",
              "      <td>COLO-829</td>\n",
              "      <td>SIDM00909</td>\n",
              "      <td>SKCM</td>\n",
              "      <td>1</td>\n",
              "      <td>Erlotinib</td>\n",
              "      <td>EGFR</td>\n",
              "      <td>EGFR signaling</td>\n",
              "      <td>1045</td>\n",
              "      <td>Y</td>\n",
              "      <td>0.007813</td>\n",
              "      <td>2.0</td>\n",
              "      <td>2.966007</td>\n",
              "      <td>0.954778</td>\n",
              "      <td>0.180255</td>\n",
              "      <td>0.401702</td>\n",
              "    </tr>\n",
              "  </tbody>\n",
              "</table>\n",
              "</div>\n",
              "    <div class=\"colab-df-buttons\">\n",
              "\n",
              "  <div class=\"colab-df-container\">\n",
              "    <button class=\"colab-df-convert\" onclick=\"convertToInteractive('df-4507eb3d-8a48-4f85-9f3b-d29c48ddace1')\"\n",
              "            title=\"Convert this dataframe to an interactive table.\"\n",
              "            style=\"display:none;\">\n",
              "\n",
              "  <svg xmlns=\"http://www.w3.org/2000/svg\" height=\"24px\" viewBox=\"0 -960 960 960\">\n",
              "    <path d=\"M120-120v-720h720v720H120Zm60-500h600v-160H180v160Zm220 220h160v-160H400v160Zm0 220h160v-160H400v160ZM180-400h160v-160H180v160Zm440 0h160v-160H620v160ZM180-180h160v-160H180v160Zm440 0h160v-160H620v160Z\"/>\n",
              "  </svg>\n",
              "    </button>\n",
              "\n",
              "  <style>\n",
              "    .colab-df-container {\n",
              "      display:flex;\n",
              "      gap: 12px;\n",
              "    }\n",
              "\n",
              "    .colab-df-convert {\n",
              "      background-color: #E8F0FE;\n",
              "      border: none;\n",
              "      border-radius: 50%;\n",
              "      cursor: pointer;\n",
              "      display: none;\n",
              "      fill: #1967D2;\n",
              "      height: 32px;\n",
              "      padding: 0 0 0 0;\n",
              "      width: 32px;\n",
              "    }\n",
              "\n",
              "    .colab-df-convert:hover {\n",
              "      background-color: #E2EBFA;\n",
              "      box-shadow: 0px 1px 2px rgba(60, 64, 67, 0.3), 0px 1px 3px 1px rgba(60, 64, 67, 0.15);\n",
              "      fill: #174EA6;\n",
              "    }\n",
              "\n",
              "    .colab-df-buttons div {\n",
              "      margin-bottom: 4px;\n",
              "    }\n",
              "\n",
              "    [theme=dark] .colab-df-convert {\n",
              "      background-color: #3B4455;\n",
              "      fill: #D2E3FC;\n",
              "    }\n",
              "\n",
              "    [theme=dark] .colab-df-convert:hover {\n",
              "      background-color: #434B5C;\n",
              "      box-shadow: 0px 1px 3px 1px rgba(0, 0, 0, 0.15);\n",
              "      filter: drop-shadow(0px 1px 2px rgba(0, 0, 0, 0.3));\n",
              "      fill: #FFFFFF;\n",
              "    }\n",
              "  </style>\n",
              "\n",
              "    <script>\n",
              "      const buttonEl =\n",
              "        document.querySelector('#df-4507eb3d-8a48-4f85-9f3b-d29c48ddace1 button.colab-df-convert');\n",
              "      buttonEl.style.display =\n",
              "        google.colab.kernel.accessAllowed ? 'block' : 'none';\n",
              "\n",
              "      async function convertToInteractive(key) {\n",
              "        const element = document.querySelector('#df-4507eb3d-8a48-4f85-9f3b-d29c48ddace1');\n",
              "        const dataTable =\n",
              "          await google.colab.kernel.invokeFunction('convertToInteractive',\n",
              "                                                    [key], {});\n",
              "        if (!dataTable) return;\n",
              "\n",
              "        const docLinkHtml = 'Like what you see? Visit the ' +\n",
              "          '<a target=\"_blank\" href=https://colab.research.google.com/notebooks/data_table.ipynb>data table notebook</a>'\n",
              "          + ' to learn more about interactive tables.';\n",
              "        element.innerHTML = '';\n",
              "        dataTable['output_type'] = 'display_data';\n",
              "        await google.colab.output.renderOutput(dataTable, element);\n",
              "        const docLink = document.createElement('div');\n",
              "        docLink.innerHTML = docLinkHtml;\n",
              "        element.appendChild(docLink);\n",
              "      }\n",
              "    </script>\n",
              "  </div>\n",
              "\n",
              "\n",
              "    <div id=\"df-00be6cd3-6e25-47ec-bdcf-fc9dc0933fa3\">\n",
              "      <button class=\"colab-df-quickchart\" onclick=\"quickchart('df-00be6cd3-6e25-47ec-bdcf-fc9dc0933fa3')\"\n",
              "                title=\"Suggest charts\"\n",
              "                style=\"display:none;\">\n",
              "\n",
              "<svg xmlns=\"http://www.w3.org/2000/svg\" height=\"24px\"viewBox=\"0 0 24 24\"\n",
              "     width=\"24px\">\n",
              "    <g>\n",
              "        <path d=\"M19 3H5c-1.1 0-2 .9-2 2v14c0 1.1.9 2 2 2h14c1.1 0 2-.9 2-2V5c0-1.1-.9-2-2-2zM9 17H7v-7h2v7zm4 0h-2V7h2v10zm4 0h-2v-4h2v4z\"/>\n",
              "    </g>\n",
              "</svg>\n",
              "      </button>\n",
              "\n",
              "<style>\n",
              "  .colab-df-quickchart {\n",
              "      --bg-color: #E8F0FE;\n",
              "      --fill-color: #1967D2;\n",
              "      --hover-bg-color: #E2EBFA;\n",
              "      --hover-fill-color: #174EA6;\n",
              "      --disabled-fill-color: #AAA;\n",
              "      --disabled-bg-color: #DDD;\n",
              "  }\n",
              "\n",
              "  [theme=dark] .colab-df-quickchart {\n",
              "      --bg-color: #3B4455;\n",
              "      --fill-color: #D2E3FC;\n",
              "      --hover-bg-color: #434B5C;\n",
              "      --hover-fill-color: #FFFFFF;\n",
              "      --disabled-bg-color: #3B4455;\n",
              "      --disabled-fill-color: #666;\n",
              "  }\n",
              "\n",
              "  .colab-df-quickchart {\n",
              "    background-color: var(--bg-color);\n",
              "    border: none;\n",
              "    border-radius: 50%;\n",
              "    cursor: pointer;\n",
              "    display: none;\n",
              "    fill: var(--fill-color);\n",
              "    height: 32px;\n",
              "    padding: 0;\n",
              "    width: 32px;\n",
              "  }\n",
              "\n",
              "  .colab-df-quickchart:hover {\n",
              "    background-color: var(--hover-bg-color);\n",
              "    box-shadow: 0 1px 2px rgba(60, 64, 67, 0.3), 0 1px 3px 1px rgba(60, 64, 67, 0.15);\n",
              "    fill: var(--button-hover-fill-color);\n",
              "  }\n",
              "\n",
              "  .colab-df-quickchart-complete:disabled,\n",
              "  .colab-df-quickchart-complete:disabled:hover {\n",
              "    background-color: var(--disabled-bg-color);\n",
              "    fill: var(--disabled-fill-color);\n",
              "    box-shadow: none;\n",
              "  }\n",
              "\n",
              "  .colab-df-spinner {\n",
              "    border: 2px solid var(--fill-color);\n",
              "    border-color: transparent;\n",
              "    border-bottom-color: var(--fill-color);\n",
              "    animation:\n",
              "      spin 1s steps(1) infinite;\n",
              "  }\n",
              "\n",
              "  @keyframes spin {\n",
              "    0% {\n",
              "      border-color: transparent;\n",
              "      border-bottom-color: var(--fill-color);\n",
              "      border-left-color: var(--fill-color);\n",
              "    }\n",
              "    20% {\n",
              "      border-color: transparent;\n",
              "      border-left-color: var(--fill-color);\n",
              "      border-top-color: var(--fill-color);\n",
              "    }\n",
              "    30% {\n",
              "      border-color: transparent;\n",
              "      border-left-color: var(--fill-color);\n",
              "      border-top-color: var(--fill-color);\n",
              "      border-right-color: var(--fill-color);\n",
              "    }\n",
              "    40% {\n",
              "      border-color: transparent;\n",
              "      border-right-color: var(--fill-color);\n",
              "      border-top-color: var(--fill-color);\n",
              "    }\n",
              "    60% {\n",
              "      border-color: transparent;\n",
              "      border-right-color: var(--fill-color);\n",
              "    }\n",
              "    80% {\n",
              "      border-color: transparent;\n",
              "      border-right-color: var(--fill-color);\n",
              "      border-bottom-color: var(--fill-color);\n",
              "    }\n",
              "    90% {\n",
              "      border-color: transparent;\n",
              "      border-bottom-color: var(--fill-color);\n",
              "    }\n",
              "  }\n",
              "</style>\n",
              "\n",
              "      <script>\n",
              "        async function quickchart(key) {\n",
              "          const quickchartButtonEl =\n",
              "            document.querySelector('#' + key + ' button');\n",
              "          quickchartButtonEl.disabled = true;  // To prevent multiple clicks.\n",
              "          quickchartButtonEl.classList.add('colab-df-spinner');\n",
              "          try {\n",
              "            const charts = await google.colab.kernel.invokeFunction(\n",
              "                'suggestCharts', [key], {});\n",
              "          } catch (error) {\n",
              "            console.error('Error during call to suggestCharts:', error);\n",
              "          }\n",
              "          quickchartButtonEl.classList.remove('colab-df-spinner');\n",
              "          quickchartButtonEl.classList.add('colab-df-quickchart-complete');\n",
              "        }\n",
              "        (() => {\n",
              "          let quickchartButtonEl =\n",
              "            document.querySelector('#df-00be6cd3-6e25-47ec-bdcf-fc9dc0933fa3 button');\n",
              "          quickchartButtonEl.style.display =\n",
              "            google.colab.kernel.accessAllowed ? 'block' : 'none';\n",
              "        })();\n",
              "      </script>\n",
              "    </div>\n",
              "\n",
              "    </div>\n",
              "  </div>\n"
            ],
            "text/plain": [
              "  DATASET  NLME_RESULT_ID  NLME_CURVE_ID  COSMIC_ID CELL_LINE_NAME  \\\n",
              "0   GDSC1             342       15580432     684057            ES5   \n",
              "1   GDSC1             342       15580806     684059            ES7   \n",
              "2   GDSC1             342       15581198     684062          EW-11   \n",
              "3   GDSC1             342       15581542     684072        SK-ES-1   \n",
              "4   GDSC1             342       15581930     687448       COLO-829   \n",
              "\n",
              "  SANGER_MODEL_ID     TCGA_DESC  DRUG_ID  DRUG_NAME PUTATIVE_TARGET  \\\n",
              "0       SIDM00263  UNCLASSIFIED        1  Erlotinib            EGFR   \n",
              "1       SIDM00269  UNCLASSIFIED        1  Erlotinib            EGFR   \n",
              "2       SIDM00203  UNCLASSIFIED        1  Erlotinib            EGFR   \n",
              "3       SIDM01111  UNCLASSIFIED        1  Erlotinib            EGFR   \n",
              "4       SIDM00909          SKCM        1  Erlotinib            EGFR   \n",
              "\n",
              "     PATHWAY_NAME  COMPANY_ID WEBRELEASE  MIN_CONC  MAX_CONC   LN_IC50  \\\n",
              "0  EGFR signaling        1045          Y  0.007813       2.0  3.966813   \n",
              "1  EGFR signaling        1045          Y  0.007813       2.0  2.692090   \n",
              "2  EGFR signaling        1045          Y  0.007813       2.0  2.477990   \n",
              "3  EGFR signaling        1045          Y  0.007813       2.0  2.033564   \n",
              "4  EGFR signaling        1045          Y  0.007813       2.0  2.966007   \n",
              "\n",
              "        AUC      RMSE   Z_SCORE  \n",
              "0  0.985678  0.026081  1.299144  \n",
              "1  0.972690  0.110059  0.156076  \n",
              "2  0.944459  0.087019 -0.035912  \n",
              "3  0.950758  0.016290 -0.434437  \n",
              "4  0.954778  0.180255  0.401702  "
            ]
          },
          "execution_count": 5,
          "metadata": {},
          "output_type": "execute_result"
        }
      ],
      "source": [
        "df=gdsc.copy()\n",
        "df.head()"
      ]
    },
    {
      "cell_type": "code",
      "execution_count": null,
      "metadata": {
        "colab": {
          "base_uri": "https://localhost:8080/"
        },
        "id": "jcza9b6Ec9gS",
        "outputId": "9b875cae-9dfd-4fb7-f3ac-cc7c6f374c2b"
      },
      "outputs": [
        {
          "data": {
            "text/plain": [
              "(333161, 19)"
            ]
          },
          "execution_count": 6,
          "metadata": {},
          "output_type": "execute_result"
        }
      ],
      "source": [
        "df.shape"
      ]
    },
    {
      "cell_type": "markdown",
      "metadata": {
        "id": "2c2JznECnZDI"
      },
      "source": [
        "**Step 2: Remove columns which will not be of use in training the model**"
      ]
    },
    {
      "cell_type": "code",
      "execution_count": null,
      "metadata": {
        "colab": {
          "base_uri": "https://localhost:8080/"
        },
        "id": "hyRS2qX2nisn",
        "outputId": "a958edf8-786d-4d15-b1af-1700a301c431"
      },
      "outputs": [
        {
          "name": "stdout",
          "output_type": "stream",
          "text": [
            "['GDSC1']\n",
            "[342]\n"
          ]
        }
      ],
      "source": [
        "print(df['DATASET'].unique())\n",
        "print(df['NLME_RESULT_ID'].unique())"
      ]
    },
    {
      "cell_type": "code",
      "execution_count": null,
      "metadata": {
        "id": "uEKEvUWCdA1L"
      },
      "outputs": [],
      "source": [
        "df.drop('DATASET',axis=1,inplace=True)"
      ]
    },
    {
      "cell_type": "code",
      "execution_count": null,
      "metadata": {
        "id": "7EgYnRpGh-fa"
      },
      "outputs": [],
      "source": [
        "df.drop('NLME_RESULT_ID',axis=1,inplace=True)"
      ]
    },
    {
      "cell_type": "code",
      "execution_count": null,
      "metadata": {
        "colab": {
          "base_uri": "https://localhost:8080/"
        },
        "id": "CfOtmfGjdFda",
        "outputId": "d55b5a30-435c-4e27-d4f0-256bda741306"
      },
      "outputs": [
        {
          "data": {
            "text/plain": [
              "(333161, 17)"
            ]
          },
          "execution_count": 10,
          "metadata": {},
          "output_type": "execute_result"
        }
      ],
      "source": [
        "df.shape"
      ]
    },
    {
      "cell_type": "code",
      "execution_count": null,
      "metadata": {
        "colab": {
          "base_uri": "https://localhost:8080/"
        },
        "id": "3xfahAUSeYpP",
        "outputId": "3f4d860e-68df-4828-ca3d-6816c73eefe0"
      },
      "outputs": [
        {
          "data": {
            "text/plain": [
              "Index(['NLME_CURVE_ID', 'COSMIC_ID', 'CELL_LINE_NAME', 'SANGER_MODEL_ID',\n",
              "       'TCGA_DESC', 'DRUG_ID', 'DRUG_NAME', 'PUTATIVE_TARGET', 'PATHWAY_NAME',\n",
              "       'COMPANY_ID', 'WEBRELEASE', 'MIN_CONC', 'MAX_CONC', 'LN_IC50', 'AUC',\n",
              "       'RMSE', 'Z_SCORE'],\n",
              "      dtype='object')"
            ]
          },
          "execution_count": 11,
          "metadata": {},
          "output_type": "execute_result"
        }
      ],
      "source": [
        "df.columns"
      ]
    },
    {
      "cell_type": "code",
      "execution_count": null,
      "metadata": {
        "colab": {
          "base_uri": "https://localhost:8080/",
          "height": 313
        },
        "id": "1771TCi2dDeR",
        "outputId": "618edd73-0528-4dc8-cf48-c8895d93721b"
      },
      "outputs": [
        {
          "data": {
            "application/vnd.google.colaboratory.intrinsic+json": {
              "type": "dataframe",
              "variable_name": "df"
            },
            "text/html": [
              "\n",
              "  <div id=\"df-c52588b9-dae3-414d-87f8-2a13bd249dae\" class=\"colab-df-container\">\n",
              "    <div>\n",
              "<style scoped>\n",
              "    .dataframe tbody tr th:only-of-type {\n",
              "        vertical-align: middle;\n",
              "    }\n",
              "\n",
              "    .dataframe tbody tr th {\n",
              "        vertical-align: top;\n",
              "    }\n",
              "\n",
              "    .dataframe thead th {\n",
              "        text-align: right;\n",
              "    }\n",
              "</style>\n",
              "<table border=\"1\" class=\"dataframe\">\n",
              "  <thead>\n",
              "    <tr style=\"text-align: right;\">\n",
              "      <th></th>\n",
              "      <th>NLME_CURVE_ID</th>\n",
              "      <th>COSMIC_ID</th>\n",
              "      <th>CELL_LINE_NAME</th>\n",
              "      <th>SANGER_MODEL_ID</th>\n",
              "      <th>TCGA_DESC</th>\n",
              "      <th>DRUG_ID</th>\n",
              "      <th>DRUG_NAME</th>\n",
              "      <th>PUTATIVE_TARGET</th>\n",
              "      <th>PATHWAY_NAME</th>\n",
              "      <th>COMPANY_ID</th>\n",
              "      <th>WEBRELEASE</th>\n",
              "      <th>MIN_CONC</th>\n",
              "      <th>MAX_CONC</th>\n",
              "      <th>LN_IC50</th>\n",
              "      <th>AUC</th>\n",
              "      <th>RMSE</th>\n",
              "      <th>Z_SCORE</th>\n",
              "    </tr>\n",
              "  </thead>\n",
              "  <tbody>\n",
              "    <tr>\n",
              "      <th>0</th>\n",
              "      <td>15580432</td>\n",
              "      <td>684057</td>\n",
              "      <td>ES5</td>\n",
              "      <td>SIDM00263</td>\n",
              "      <td>UNCLASSIFIED</td>\n",
              "      <td>1</td>\n",
              "      <td>Erlotinib</td>\n",
              "      <td>EGFR</td>\n",
              "      <td>EGFR signaling</td>\n",
              "      <td>1045</td>\n",
              "      <td>Y</td>\n",
              "      <td>0.007813</td>\n",
              "      <td>2.0</td>\n",
              "      <td>3.966813</td>\n",
              "      <td>0.985678</td>\n",
              "      <td>0.026081</td>\n",
              "      <td>1.299144</td>\n",
              "    </tr>\n",
              "    <tr>\n",
              "      <th>1</th>\n",
              "      <td>15580806</td>\n",
              "      <td>684059</td>\n",
              "      <td>ES7</td>\n",
              "      <td>SIDM00269</td>\n",
              "      <td>UNCLASSIFIED</td>\n",
              "      <td>1</td>\n",
              "      <td>Erlotinib</td>\n",
              "      <td>EGFR</td>\n",
              "      <td>EGFR signaling</td>\n",
              "      <td>1045</td>\n",
              "      <td>Y</td>\n",
              "      <td>0.007813</td>\n",
              "      <td>2.0</td>\n",
              "      <td>2.692090</td>\n",
              "      <td>0.972690</td>\n",
              "      <td>0.110059</td>\n",
              "      <td>0.156076</td>\n",
              "    </tr>\n",
              "    <tr>\n",
              "      <th>2</th>\n",
              "      <td>15581198</td>\n",
              "      <td>684062</td>\n",
              "      <td>EW-11</td>\n",
              "      <td>SIDM00203</td>\n",
              "      <td>UNCLASSIFIED</td>\n",
              "      <td>1</td>\n",
              "      <td>Erlotinib</td>\n",
              "      <td>EGFR</td>\n",
              "      <td>EGFR signaling</td>\n",
              "      <td>1045</td>\n",
              "      <td>Y</td>\n",
              "      <td>0.007813</td>\n",
              "      <td>2.0</td>\n",
              "      <td>2.477990</td>\n",
              "      <td>0.944459</td>\n",
              "      <td>0.087019</td>\n",
              "      <td>-0.035912</td>\n",
              "    </tr>\n",
              "    <tr>\n",
              "      <th>3</th>\n",
              "      <td>15581542</td>\n",
              "      <td>684072</td>\n",
              "      <td>SK-ES-1</td>\n",
              "      <td>SIDM01111</td>\n",
              "      <td>UNCLASSIFIED</td>\n",
              "      <td>1</td>\n",
              "      <td>Erlotinib</td>\n",
              "      <td>EGFR</td>\n",
              "      <td>EGFR signaling</td>\n",
              "      <td>1045</td>\n",
              "      <td>Y</td>\n",
              "      <td>0.007813</td>\n",
              "      <td>2.0</td>\n",
              "      <td>2.033564</td>\n",
              "      <td>0.950758</td>\n",
              "      <td>0.016290</td>\n",
              "      <td>-0.434437</td>\n",
              "    </tr>\n",
              "    <tr>\n",
              "      <th>4</th>\n",
              "      <td>15581930</td>\n",
              "      <td>687448</td>\n",
              "      <td>COLO-829</td>\n",
              "      <td>SIDM00909</td>\n",
              "      <td>SKCM</td>\n",
              "      <td>1</td>\n",
              "      <td>Erlotinib</td>\n",
              "      <td>EGFR</td>\n",
              "      <td>EGFR signaling</td>\n",
              "      <td>1045</td>\n",
              "      <td>Y</td>\n",
              "      <td>0.007813</td>\n",
              "      <td>2.0</td>\n",
              "      <td>2.966007</td>\n",
              "      <td>0.954778</td>\n",
              "      <td>0.180255</td>\n",
              "      <td>0.401702</td>\n",
              "    </tr>\n",
              "  </tbody>\n",
              "</table>\n",
              "</div>\n",
              "    <div class=\"colab-df-buttons\">\n",
              "\n",
              "  <div class=\"colab-df-container\">\n",
              "    <button class=\"colab-df-convert\" onclick=\"convertToInteractive('df-c52588b9-dae3-414d-87f8-2a13bd249dae')\"\n",
              "            title=\"Convert this dataframe to an interactive table.\"\n",
              "            style=\"display:none;\">\n",
              "\n",
              "  <svg xmlns=\"http://www.w3.org/2000/svg\" height=\"24px\" viewBox=\"0 -960 960 960\">\n",
              "    <path d=\"M120-120v-720h720v720H120Zm60-500h600v-160H180v160Zm220 220h160v-160H400v160Zm0 220h160v-160H400v160ZM180-400h160v-160H180v160Zm440 0h160v-160H620v160ZM180-180h160v-160H180v160Zm440 0h160v-160H620v160Z\"/>\n",
              "  </svg>\n",
              "    </button>\n",
              "\n",
              "  <style>\n",
              "    .colab-df-container {\n",
              "      display:flex;\n",
              "      gap: 12px;\n",
              "    }\n",
              "\n",
              "    .colab-df-convert {\n",
              "      background-color: #E8F0FE;\n",
              "      border: none;\n",
              "      border-radius: 50%;\n",
              "      cursor: pointer;\n",
              "      display: none;\n",
              "      fill: #1967D2;\n",
              "      height: 32px;\n",
              "      padding: 0 0 0 0;\n",
              "      width: 32px;\n",
              "    }\n",
              "\n",
              "    .colab-df-convert:hover {\n",
              "      background-color: #E2EBFA;\n",
              "      box-shadow: 0px 1px 2px rgba(60, 64, 67, 0.3), 0px 1px 3px 1px rgba(60, 64, 67, 0.15);\n",
              "      fill: #174EA6;\n",
              "    }\n",
              "\n",
              "    .colab-df-buttons div {\n",
              "      margin-bottom: 4px;\n",
              "    }\n",
              "\n",
              "    [theme=dark] .colab-df-convert {\n",
              "      background-color: #3B4455;\n",
              "      fill: #D2E3FC;\n",
              "    }\n",
              "\n",
              "    [theme=dark] .colab-df-convert:hover {\n",
              "      background-color: #434B5C;\n",
              "      box-shadow: 0px 1px 3px 1px rgba(0, 0, 0, 0.15);\n",
              "      filter: drop-shadow(0px 1px 2px rgba(0, 0, 0, 0.3));\n",
              "      fill: #FFFFFF;\n",
              "    }\n",
              "  </style>\n",
              "\n",
              "    <script>\n",
              "      const buttonEl =\n",
              "        document.querySelector('#df-c52588b9-dae3-414d-87f8-2a13bd249dae button.colab-df-convert');\n",
              "      buttonEl.style.display =\n",
              "        google.colab.kernel.accessAllowed ? 'block' : 'none';\n",
              "\n",
              "      async function convertToInteractive(key) {\n",
              "        const element = document.querySelector('#df-c52588b9-dae3-414d-87f8-2a13bd249dae');\n",
              "        const dataTable =\n",
              "          await google.colab.kernel.invokeFunction('convertToInteractive',\n",
              "                                                    [key], {});\n",
              "        if (!dataTable) return;\n",
              "\n",
              "        const docLinkHtml = 'Like what you see? Visit the ' +\n",
              "          '<a target=\"_blank\" href=https://colab.research.google.com/notebooks/data_table.ipynb>data table notebook</a>'\n",
              "          + ' to learn more about interactive tables.';\n",
              "        element.innerHTML = '';\n",
              "        dataTable['output_type'] = 'display_data';\n",
              "        await google.colab.output.renderOutput(dataTable, element);\n",
              "        const docLink = document.createElement('div');\n",
              "        docLink.innerHTML = docLinkHtml;\n",
              "        element.appendChild(docLink);\n",
              "      }\n",
              "    </script>\n",
              "  </div>\n",
              "\n",
              "\n",
              "    <div id=\"df-ddbaaf26-1474-4463-b140-e3fc4716b961\">\n",
              "      <button class=\"colab-df-quickchart\" onclick=\"quickchart('df-ddbaaf26-1474-4463-b140-e3fc4716b961')\"\n",
              "                title=\"Suggest charts\"\n",
              "                style=\"display:none;\">\n",
              "\n",
              "<svg xmlns=\"http://www.w3.org/2000/svg\" height=\"24px\"viewBox=\"0 0 24 24\"\n",
              "     width=\"24px\">\n",
              "    <g>\n",
              "        <path d=\"M19 3H5c-1.1 0-2 .9-2 2v14c0 1.1.9 2 2 2h14c1.1 0 2-.9 2-2V5c0-1.1-.9-2-2-2zM9 17H7v-7h2v7zm4 0h-2V7h2v10zm4 0h-2v-4h2v4z\"/>\n",
              "    </g>\n",
              "</svg>\n",
              "      </button>\n",
              "\n",
              "<style>\n",
              "  .colab-df-quickchart {\n",
              "      --bg-color: #E8F0FE;\n",
              "      --fill-color: #1967D2;\n",
              "      --hover-bg-color: #E2EBFA;\n",
              "      --hover-fill-color: #174EA6;\n",
              "      --disabled-fill-color: #AAA;\n",
              "      --disabled-bg-color: #DDD;\n",
              "  }\n",
              "\n",
              "  [theme=dark] .colab-df-quickchart {\n",
              "      --bg-color: #3B4455;\n",
              "      --fill-color: #D2E3FC;\n",
              "      --hover-bg-color: #434B5C;\n",
              "      --hover-fill-color: #FFFFFF;\n",
              "      --disabled-bg-color: #3B4455;\n",
              "      --disabled-fill-color: #666;\n",
              "  }\n",
              "\n",
              "  .colab-df-quickchart {\n",
              "    background-color: var(--bg-color);\n",
              "    border: none;\n",
              "    border-radius: 50%;\n",
              "    cursor: pointer;\n",
              "    display: none;\n",
              "    fill: var(--fill-color);\n",
              "    height: 32px;\n",
              "    padding: 0;\n",
              "    width: 32px;\n",
              "  }\n",
              "\n",
              "  .colab-df-quickchart:hover {\n",
              "    background-color: var(--hover-bg-color);\n",
              "    box-shadow: 0 1px 2px rgba(60, 64, 67, 0.3), 0 1px 3px 1px rgba(60, 64, 67, 0.15);\n",
              "    fill: var(--button-hover-fill-color);\n",
              "  }\n",
              "\n",
              "  .colab-df-quickchart-complete:disabled,\n",
              "  .colab-df-quickchart-complete:disabled:hover {\n",
              "    background-color: var(--disabled-bg-color);\n",
              "    fill: var(--disabled-fill-color);\n",
              "    box-shadow: none;\n",
              "  }\n",
              "\n",
              "  .colab-df-spinner {\n",
              "    border: 2px solid var(--fill-color);\n",
              "    border-color: transparent;\n",
              "    border-bottom-color: var(--fill-color);\n",
              "    animation:\n",
              "      spin 1s steps(1) infinite;\n",
              "  }\n",
              "\n",
              "  @keyframes spin {\n",
              "    0% {\n",
              "      border-color: transparent;\n",
              "      border-bottom-color: var(--fill-color);\n",
              "      border-left-color: var(--fill-color);\n",
              "    }\n",
              "    20% {\n",
              "      border-color: transparent;\n",
              "      border-left-color: var(--fill-color);\n",
              "      border-top-color: var(--fill-color);\n",
              "    }\n",
              "    30% {\n",
              "      border-color: transparent;\n",
              "      border-left-color: var(--fill-color);\n",
              "      border-top-color: var(--fill-color);\n",
              "      border-right-color: var(--fill-color);\n",
              "    }\n",
              "    40% {\n",
              "      border-color: transparent;\n",
              "      border-right-color: var(--fill-color);\n",
              "      border-top-color: var(--fill-color);\n",
              "    }\n",
              "    60% {\n",
              "      border-color: transparent;\n",
              "      border-right-color: var(--fill-color);\n",
              "    }\n",
              "    80% {\n",
              "      border-color: transparent;\n",
              "      border-right-color: var(--fill-color);\n",
              "      border-bottom-color: var(--fill-color);\n",
              "    }\n",
              "    90% {\n",
              "      border-color: transparent;\n",
              "      border-bottom-color: var(--fill-color);\n",
              "    }\n",
              "  }\n",
              "</style>\n",
              "\n",
              "      <script>\n",
              "        async function quickchart(key) {\n",
              "          const quickchartButtonEl =\n",
              "            document.querySelector('#' + key + ' button');\n",
              "          quickchartButtonEl.disabled = true;  // To prevent multiple clicks.\n",
              "          quickchartButtonEl.classList.add('colab-df-spinner');\n",
              "          try {\n",
              "            const charts = await google.colab.kernel.invokeFunction(\n",
              "                'suggestCharts', [key], {});\n",
              "          } catch (error) {\n",
              "            console.error('Error during call to suggestCharts:', error);\n",
              "          }\n",
              "          quickchartButtonEl.classList.remove('colab-df-spinner');\n",
              "          quickchartButtonEl.classList.add('colab-df-quickchart-complete');\n",
              "        }\n",
              "        (() => {\n",
              "          let quickchartButtonEl =\n",
              "            document.querySelector('#df-ddbaaf26-1474-4463-b140-e3fc4716b961 button');\n",
              "          quickchartButtonEl.style.display =\n",
              "            google.colab.kernel.accessAllowed ? 'block' : 'none';\n",
              "        })();\n",
              "      </script>\n",
              "    </div>\n",
              "\n",
              "    </div>\n",
              "  </div>\n"
            ],
            "text/plain": [
              "   NLME_CURVE_ID  COSMIC_ID CELL_LINE_NAME SANGER_MODEL_ID     TCGA_DESC  \\\n",
              "0       15580432     684057            ES5       SIDM00263  UNCLASSIFIED   \n",
              "1       15580806     684059            ES7       SIDM00269  UNCLASSIFIED   \n",
              "2       15581198     684062          EW-11       SIDM00203  UNCLASSIFIED   \n",
              "3       15581542     684072        SK-ES-1       SIDM01111  UNCLASSIFIED   \n",
              "4       15581930     687448       COLO-829       SIDM00909          SKCM   \n",
              "\n",
              "   DRUG_ID  DRUG_NAME PUTATIVE_TARGET    PATHWAY_NAME  COMPANY_ID WEBRELEASE  \\\n",
              "0        1  Erlotinib            EGFR  EGFR signaling        1045          Y   \n",
              "1        1  Erlotinib            EGFR  EGFR signaling        1045          Y   \n",
              "2        1  Erlotinib            EGFR  EGFR signaling        1045          Y   \n",
              "3        1  Erlotinib            EGFR  EGFR signaling        1045          Y   \n",
              "4        1  Erlotinib            EGFR  EGFR signaling        1045          Y   \n",
              "\n",
              "   MIN_CONC  MAX_CONC   LN_IC50       AUC      RMSE   Z_SCORE  \n",
              "0  0.007813       2.0  3.966813  0.985678  0.026081  1.299144  \n",
              "1  0.007813       2.0  2.692090  0.972690  0.110059  0.156076  \n",
              "2  0.007813       2.0  2.477990  0.944459  0.087019 -0.035912  \n",
              "3  0.007813       2.0  2.033564  0.950758  0.016290 -0.434437  \n",
              "4  0.007813       2.0  2.966007  0.954778  0.180255  0.401702  "
            ]
          },
          "execution_count": 12,
          "metadata": {},
          "output_type": "execute_result"
        }
      ],
      "source": [
        "df.head()"
      ]
    },
    {
      "cell_type": "markdown",
      "metadata": {
        "id": "Gj66Um-wn90t"
      },
      "source": [
        "**Step 3: Treat missing values**"
      ]
    },
    {
      "cell_type": "code",
      "execution_count": null,
      "metadata": {
        "colab": {
          "base_uri": "https://localhost:8080/",
          "height": 617
        },
        "id": "V3xa7CQeii9I",
        "outputId": "c40f6795-767b-4877-eac9-544c478198e7"
      },
      "outputs": [
        {
          "data": {
            "text/html": [
              "<div>\n",
              "<style scoped>\n",
              "    .dataframe tbody tr th:only-of-type {\n",
              "        vertical-align: middle;\n",
              "    }\n",
              "\n",
              "    .dataframe tbody tr th {\n",
              "        vertical-align: top;\n",
              "    }\n",
              "\n",
              "    .dataframe thead th {\n",
              "        text-align: right;\n",
              "    }\n",
              "</style>\n",
              "<table border=\"1\" class=\"dataframe\">\n",
              "  <thead>\n",
              "    <tr style=\"text-align: right;\">\n",
              "      <th></th>\n",
              "      <th>0</th>\n",
              "    </tr>\n",
              "  </thead>\n",
              "  <tbody>\n",
              "    <tr>\n",
              "      <th>NLME_CURVE_ID</th>\n",
              "      <td>0</td>\n",
              "    </tr>\n",
              "    <tr>\n",
              "      <th>COSMIC_ID</th>\n",
              "      <td>0</td>\n",
              "    </tr>\n",
              "    <tr>\n",
              "      <th>CELL_LINE_NAME</th>\n",
              "      <td>0</td>\n",
              "    </tr>\n",
              "    <tr>\n",
              "      <th>SANGER_MODEL_ID</th>\n",
              "      <td>0</td>\n",
              "    </tr>\n",
              "    <tr>\n",
              "      <th>TCGA_DESC</th>\n",
              "      <td>580</td>\n",
              "    </tr>\n",
              "    <tr>\n",
              "      <th>DRUG_ID</th>\n",
              "      <td>0</td>\n",
              "    </tr>\n",
              "    <tr>\n",
              "      <th>DRUG_NAME</th>\n",
              "      <td>0</td>\n",
              "    </tr>\n",
              "    <tr>\n",
              "      <th>PUTATIVE_TARGET</th>\n",
              "      <td>3652</td>\n",
              "    </tr>\n",
              "    <tr>\n",
              "      <th>PATHWAY_NAME</th>\n",
              "      <td>0</td>\n",
              "    </tr>\n",
              "    <tr>\n",
              "      <th>COMPANY_ID</th>\n",
              "      <td>0</td>\n",
              "    </tr>\n",
              "    <tr>\n",
              "      <th>WEBRELEASE</th>\n",
              "      <td>0</td>\n",
              "    </tr>\n",
              "    <tr>\n",
              "      <th>MIN_CONC</th>\n",
              "      <td>0</td>\n",
              "    </tr>\n",
              "    <tr>\n",
              "      <th>MAX_CONC</th>\n",
              "      <td>0</td>\n",
              "    </tr>\n",
              "    <tr>\n",
              "      <th>LN_IC50</th>\n",
              "      <td>0</td>\n",
              "    </tr>\n",
              "    <tr>\n",
              "      <th>AUC</th>\n",
              "      <td>0</td>\n",
              "    </tr>\n",
              "    <tr>\n",
              "      <th>RMSE</th>\n",
              "      <td>0</td>\n",
              "    </tr>\n",
              "    <tr>\n",
              "      <th>Z_SCORE</th>\n",
              "      <td>0</td>\n",
              "    </tr>\n",
              "  </tbody>\n",
              "</table>\n",
              "</div><br><label><b>dtype:</b> int64</label>"
            ],
            "text/plain": [
              "NLME_CURVE_ID         0\n",
              "COSMIC_ID             0\n",
              "CELL_LINE_NAME        0\n",
              "SANGER_MODEL_ID       0\n",
              "TCGA_DESC           580\n",
              "DRUG_ID               0\n",
              "DRUG_NAME             0\n",
              "PUTATIVE_TARGET    3652\n",
              "PATHWAY_NAME          0\n",
              "COMPANY_ID            0\n",
              "WEBRELEASE            0\n",
              "MIN_CONC              0\n",
              "MAX_CONC              0\n",
              "LN_IC50               0\n",
              "AUC                   0\n",
              "RMSE                  0\n",
              "Z_SCORE               0\n",
              "dtype: int64"
            ]
          },
          "execution_count": 13,
          "metadata": {},
          "output_type": "execute_result"
        }
      ],
      "source": [
        "df.isnull().sum()"
      ]
    },
    {
      "cell_type": "code",
      "execution_count": null,
      "metadata": {
        "colab": {
          "base_uri": "https://localhost:8080/"
        },
        "id": "d_Uqsj7SjB0E",
        "outputId": "0fe94d7a-4044-491a-a681-de0808c3eb4f"
      },
      "outputs": [
        {
          "data": {
            "text/plain": [
              "np.float64(1.096166718193306)"
            ]
          },
          "execution_count": 14,
          "metadata": {},
          "output_type": "execute_result"
        }
      ],
      "source": [
        "(df['PUTATIVE_TARGET'].isnull().sum())*100/df.shape[0]"
      ]
    },
    {
      "cell_type": "code",
      "execution_count": null,
      "metadata": {
        "colab": {
          "base_uri": "https://localhost:8080/",
          "height": 241
        },
        "id": "rrK87SiaknaP",
        "outputId": "824e351a-f478-4888-aa6e-2f6b8281f48a"
      },
      "outputs": [
        {
          "data": {
            "text/html": [
              "<div>\n",
              "<style scoped>\n",
              "    .dataframe tbody tr th:only-of-type {\n",
              "        vertical-align: middle;\n",
              "    }\n",
              "\n",
              "    .dataframe tbody tr th {\n",
              "        vertical-align: top;\n",
              "    }\n",
              "\n",
              "    .dataframe thead th {\n",
              "        text-align: right;\n",
              "    }\n",
              "</style>\n",
              "<table border=\"1\" class=\"dataframe\">\n",
              "  <thead>\n",
              "    <tr style=\"text-align: right;\">\n",
              "      <th></th>\n",
              "      <th>PUTATIVE_TARGET</th>\n",
              "    </tr>\n",
              "  </thead>\n",
              "  <tbody>\n",
              "    <tr>\n",
              "      <th>0</th>\n",
              "      <td>EGFR</td>\n",
              "    </tr>\n",
              "    <tr>\n",
              "      <th>1</th>\n",
              "      <td>EGFR</td>\n",
              "    </tr>\n",
              "    <tr>\n",
              "      <th>2</th>\n",
              "      <td>EGFR</td>\n",
              "    </tr>\n",
              "    <tr>\n",
              "      <th>3</th>\n",
              "      <td>EGFR</td>\n",
              "    </tr>\n",
              "    <tr>\n",
              "      <th>4</th>\n",
              "      <td>EGFR</td>\n",
              "    </tr>\n",
              "  </tbody>\n",
              "</table>\n",
              "</div><br><label><b>dtype:</b> object</label>"
            ],
            "text/plain": [
              "0    EGFR\n",
              "1    EGFR\n",
              "2    EGFR\n",
              "3    EGFR\n",
              "4    EGFR\n",
              "Name: PUTATIVE_TARGET, dtype: object"
            ]
          },
          "execution_count": 15,
          "metadata": {},
          "output_type": "execute_result"
        }
      ],
      "source": [
        "df['PUTATIVE_TARGET'].head()"
      ]
    },
    {
      "cell_type": "code",
      "execution_count": null,
      "metadata": {
        "id": "WcE4mP53juFf"
      },
      "outputs": [],
      "source": [
        "df['PUTATIVE_TARGET'].fillna(df['PUTATIVE_TARGET'].mode().iloc[0],inplace=True)"
      ]
    },
    {
      "cell_type": "code",
      "execution_count": null,
      "metadata": {
        "colab": {
          "base_uri": "https://localhost:8080/"
        },
        "id": "P82GNL0xkFxE",
        "outputId": "d97a6b9b-2294-442e-986f-47826038f899"
      },
      "outputs": [
        {
          "data": {
            "text/plain": [
              "np.int64(0)"
            ]
          },
          "execution_count": 17,
          "metadata": {},
          "output_type": "execute_result"
        }
      ],
      "source": [
        "df['PUTATIVE_TARGET'].isnull().sum()"
      ]
    },
    {
      "cell_type": "code",
      "execution_count": null,
      "metadata": {
        "colab": {
          "base_uri": "https://localhost:8080/"
        },
        "id": "MLPcTkU_lNvD",
        "outputId": "77097673-d4a0-4ffc-c053-687f84aa0335"
      },
      "outputs": [
        {
          "data": {
            "text/plain": [
              "array(['UNCLASSIFIED', 'SKCM', 'GBM', 'LUAD', 'SCLC', 'NB', 'ESCA',\n",
              "       'BRCA', 'HNSC', 'LAML', 'BLCA', 'KIRC', 'MM', 'PAAD', 'LCML',\n",
              "       'LUSC', 'ALL', 'COREAD', 'LGG', 'OV', 'DLBC', 'MB', 'CLL', 'STAD',\n",
              "       'MESO', 'PRAD', nan, 'THCA', 'UCEC', 'CESC', 'LIHC', 'ACC'],\n",
              "      dtype=object)"
            ]
          },
          "execution_count": 18,
          "metadata": {},
          "output_type": "execute_result"
        }
      ],
      "source": [
        "df['TCGA_DESC'].unique()"
      ]
    },
    {
      "cell_type": "code",
      "execution_count": null,
      "metadata": {
        "id": "WtL4dekKoM0Z"
      },
      "outputs": [],
      "source": [
        "df['TCGA_DESC'].fillna(df['TCGA_DESC'].mode().iloc[0],inplace=True)"
      ]
    },
    {
      "cell_type": "code",
      "execution_count": null,
      "metadata": {
        "colab": {
          "base_uri": "https://localhost:8080/"
        },
        "id": "Sql12JFvoVeK",
        "outputId": "1fb1c924-c2e0-4dba-a111-061d80a519a1"
      },
      "outputs": [
        {
          "data": {
            "text/plain": [
              "np.int64(0)"
            ]
          },
          "execution_count": 20,
          "metadata": {},
          "output_type": "execute_result"
        }
      ],
      "source": [
        "df['TCGA_DESC'].isnull().sum()"
      ]
    },
    {
      "cell_type": "code",
      "execution_count": null,
      "metadata": {
        "colab": {
          "base_uri": "https://localhost:8080/"
        },
        "id": "jfstE19GoaCq",
        "outputId": "1a4bee2f-e817-429d-a4dc-424893999ada"
      },
      "outputs": [
        {
          "data": {
            "text/plain": [
              "np.int64(0)"
            ]
          },
          "execution_count": 21,
          "metadata": {},
          "output_type": "execute_result"
        }
      ],
      "source": [
        "df.isnull().sum().sum()"
      ]
    },
    {
      "cell_type": "markdown",
      "metadata": {
        "id": "hFfV56Nix0bT"
      },
      "source": [
        "# EDA"
      ]
    },
    {
      "cell_type": "markdown",
      "metadata": {
        "id": "oiANRJPwo4Ip"
      },
      "source": [
        "**Step 4:STRUCTURE OF DATASET**"
      ]
    },
    {
      "cell_type": "code",
      "execution_count": null,
      "metadata": {
        "colab": {
          "base_uri": "https://localhost:8080/",
          "height": 300
        },
        "id": "kEjgQNmWo3rQ",
        "outputId": "40a47f49-b837-4558-e9e1-714fd1ec2f24"
      },
      "outputs": [
        {
          "data": {
            "application/vnd.google.colaboratory.intrinsic+json": {
              "summary": "{\n  \"name\": \"df\",\n  \"rows\": 8,\n  \"fields\": [\n    {\n      \"column\": \"NLME_CURVE_ID\",\n      \"properties\": {\n        \"dtype\": \"number\",\n        \"std\": 7190755.120020245,\n        \"min\": 96213.94325950883,\n        \"max\": 15913046.0,\n        \"num_unique_values\": 8,\n        \"samples\": [\n          15746400.520249968,\n          15746395.0,\n          333161.0\n        ],\n        \"semantic_type\": \"\",\n        \"description\": \"\"\n      }\n    },\n    {\n      \"column\": \"COSMIC_ID\",\n      \"properties\": {\n        \"dtype\": \"number\",\n        \"std\": 499902.85798451805,\n        \"min\": 215663.51099800225,\n        \"max\": 1789883.0,\n        \"num_unique_values\": 8,\n        \"samples\": [\n          986254.3451514433,\n          909713.0,\n          333161.0\n        ],\n        \"semantic_type\": \"\",\n        \"description\": \"\"\n      }\n    },\n    {\n      \"column\": \"DRUG_ID\",\n      \"properties\": {\n        \"dtype\": \"number\",\n        \"std\": 117554.27548446607,\n        \"min\": 1.0,\n        \"max\": 333161.0,\n        \"num_unique_values\": 8,\n        \"samples\": [\n          724.2462232974448,\n          474.0,\n          333161.0\n        ],\n        \"semantic_type\": \"\",\n        \"description\": \"\"\n      }\n    },\n    {\n      \"column\": \"COMPANY_ID\",\n      \"properties\": {\n        \"dtype\": \"number\",\n        \"std\": 117477.21695375719,\n        \"min\": 17.333120882790716,\n        \"max\": 333161.0,\n        \"num_unique_values\": 7,\n        \"samples\": [\n          333161.0,\n          1034.07481067712,\n          1045.0\n        ],\n        \"semantic_type\": \"\",\n        \"description\": \"\"\n      }\n    },\n    {\n      \"column\": \"MIN_CONC\",\n      \"properties\": {\n        \"dtype\": \"number\",\n        \"std\": 117789.33928637866,\n        \"min\": 3.1e-05,\n        \"max\": 333161.0,\n        \"num_unique_values\": 8,\n        \"samples\": [\n          0.14599246563973572,\n          0.039063,\n          333161.0\n        ],\n        \"semantic_type\": \"\",\n        \"description\": \"\"\n      }\n    },\n    {\n      \"column\": \"MAX_CONC\",\n      \"properties\": {\n        \"dtype\": \"number\",\n        \"std\": 117577.34261012827,\n        \"min\": 0.008,\n        \"max\": 333161.0,\n        \"num_unique_values\": 8,\n        \"samples\": [\n          37.66982864290837,\n          10.0,\n          333161.0\n        ],\n        \"semantic_type\": \"\",\n        \"description\": \"\"\n      }\n    },\n    {\n      \"column\": \"LN_IC50\",\n      \"properties\": {\n        \"dtype\": \"number\",\n        \"std\": 117789.51715674282,\n        \"min\": -10.577744,\n        \"max\": 333161.0,\n        \"num_unique_values\": 8,\n        \"samples\": [\n          2.072252522131942,\n          2.474976,\n          333161.0\n        ],\n        \"semantic_type\": \"\",\n        \"description\": \"\"\n      }\n    },\n    {\n      \"column\": \"AUC\",\n      \"properties\": {\n        \"dtype\": \"number\",\n        \"std\": 117789.96422253981,\n        \"min\": 0.005996,\n        \"max\": 333161.0,\n        \"num_unique_values\": 8,\n        \"samples\": [\n          0.8343885694093847,\n          0.91661,\n          333161.0\n        ],\n        \"semantic_type\": \"\",\n        \"description\": \"\"\n      }\n    },\n    {\n      \"column\": \"RMSE\",\n      \"properties\": {\n        \"dtype\": \"number\",\n        \"std\": 117790.16714005586,\n        \"min\": 0.001482,\n        \"max\": 333161.0,\n        \"num_unique_values\": 8,\n        \"samples\": [\n          0.08587064391390348,\n          0.072694,\n          333161.0\n        ],\n        \"semantic_type\": \"\",\n        \"description\": \"\"\n      }\n    },\n    {\n      \"column\": \"Z_SCORE\",\n      \"properties\": {\n        \"dtype\": \"number\",\n        \"std\": 117790.37068133392,\n        \"min\": -10.069813,\n        \"max\": 333161.0,\n        \"num_unique_values\": 8,\n        \"samples\": [\n          5.823010492175346e-10,\n          0.024694,\n          333161.0\n        ],\n        \"semantic_type\": \"\",\n        \"description\": \"\"\n      }\n    }\n  ]\n}",
              "type": "dataframe"
            },
            "text/html": [
              "\n",
              "  <div id=\"df-4a66bda2-935f-43e3-b229-72710043cc05\" class=\"colab-df-container\">\n",
              "    <div>\n",
              "<style scoped>\n",
              "    .dataframe tbody tr th:only-of-type {\n",
              "        vertical-align: middle;\n",
              "    }\n",
              "\n",
              "    .dataframe tbody tr th {\n",
              "        vertical-align: top;\n",
              "    }\n",
              "\n",
              "    .dataframe thead th {\n",
              "        text-align: right;\n",
              "    }\n",
              "</style>\n",
              "<table border=\"1\" class=\"dataframe\">\n",
              "  <thead>\n",
              "    <tr style=\"text-align: right;\">\n",
              "      <th></th>\n",
              "      <th>NLME_CURVE_ID</th>\n",
              "      <th>COSMIC_ID</th>\n",
              "      <th>DRUG_ID</th>\n",
              "      <th>COMPANY_ID</th>\n",
              "      <th>MIN_CONC</th>\n",
              "      <th>MAX_CONC</th>\n",
              "      <th>LN_IC50</th>\n",
              "      <th>AUC</th>\n",
              "      <th>RMSE</th>\n",
              "      <th>Z_SCORE</th>\n",
              "    </tr>\n",
              "  </thead>\n",
              "  <tbody>\n",
              "    <tr>\n",
              "      <th>count</th>\n",
              "      <td>3.331610e+05</td>\n",
              "      <td>3.331610e+05</td>\n",
              "      <td>333161.000000</td>\n",
              "      <td>333161.000000</td>\n",
              "      <td>333161.000000</td>\n",
              "      <td>333161.000000</td>\n",
              "      <td>333161.000000</td>\n",
              "      <td>333161.000000</td>\n",
              "      <td>333161.000000</td>\n",
              "      <td>3.331610e+05</td>\n",
              "    </tr>\n",
              "    <tr>\n",
              "      <th>mean</th>\n",
              "      <td>1.574640e+07</td>\n",
              "      <td>9.862543e+05</td>\n",
              "      <td>724.246223</td>\n",
              "      <td>1034.074811</td>\n",
              "      <td>0.145992</td>\n",
              "      <td>37.669829</td>\n",
              "      <td>2.072253</td>\n",
              "      <td>0.834389</td>\n",
              "      <td>0.085871</td>\n",
              "      <td>5.823010e-10</td>\n",
              "    </tr>\n",
              "    <tr>\n",
              "      <th>std</th>\n",
              "      <td>9.621394e+04</td>\n",
              "      <td>2.156635e+05</td>\n",
              "      <td>504.337777</td>\n",
              "      <td>17.333121</td>\n",
              "      <td>1.206658</td>\n",
              "      <td>308.877466</td>\n",
              "      <td>2.592704</td>\n",
              "      <td>0.193911</td>\n",
              "      <td>0.054749</td>\n",
              "      <td>9.993980e-01</td>\n",
              "    </tr>\n",
              "    <tr>\n",
              "      <th>min</th>\n",
              "      <td>1.557976e+07</td>\n",
              "      <td>6.836670e+05</td>\n",
              "      <td>1.000000</td>\n",
              "      <td>1001.000000</td>\n",
              "      <td>0.000031</td>\n",
              "      <td>0.008000</td>\n",
              "      <td>-10.577744</td>\n",
              "      <td>0.005996</td>\n",
              "      <td>0.001482</td>\n",
              "      <td>-1.006981e+01</td>\n",
              "    </tr>\n",
              "    <tr>\n",
              "      <th>25%</th>\n",
              "      <td>1.566308e+07</td>\n",
              "      <td>9.067980e+05</td>\n",
              "      <td>260.000000</td>\n",
              "      <td>1019.000000</td>\n",
              "      <td>0.010000</td>\n",
              "      <td>2.560000</td>\n",
              "      <td>0.692894</td>\n",
              "      <td>0.767623</td>\n",
              "      <td>0.041263</td>\n",
              "      <td>-6.351450e-01</td>\n",
              "    </tr>\n",
              "    <tr>\n",
              "      <th>50%</th>\n",
              "      <td>1.574640e+07</td>\n",
              "      <td>9.097130e+05</td>\n",
              "      <td>474.000000</td>\n",
              "      <td>1045.000000</td>\n",
              "      <td>0.039063</td>\n",
              "      <td>10.000000</td>\n",
              "      <td>2.474976</td>\n",
              "      <td>0.916610</td>\n",
              "      <td>0.072694</td>\n",
              "      <td>2.469400e-02</td>\n",
              "    </tr>\n",
              "    <tr>\n",
              "      <th>75%</th>\n",
              "      <td>1.582973e+07</td>\n",
              "      <td>1.240138e+06</td>\n",
              "      <td>1197.000000</td>\n",
              "      <td>1045.000000</td>\n",
              "      <td>0.040000</td>\n",
              "      <td>16.000000</td>\n",
              "      <td>3.936266</td>\n",
              "      <td>0.973122</td>\n",
              "      <td>0.117606</td>\n",
              "      <td>6.659890e-01</td>\n",
              "    </tr>\n",
              "    <tr>\n",
              "      <th>max</th>\n",
              "      <td>1.591305e+07</td>\n",
              "      <td>1.789883e+06</td>\n",
              "      <td>1531.000000</td>\n",
              "      <td>1046.000000</td>\n",
              "      <td>15.625000</td>\n",
              "      <td>4000.000000</td>\n",
              "      <td>12.354552</td>\n",
              "      <td>0.999552</td>\n",
              "      <td>0.299965</td>\n",
              "      <td>5.660199e+00</td>\n",
              "    </tr>\n",
              "  </tbody>\n",
              "</table>\n",
              "</div>\n",
              "    <div class=\"colab-df-buttons\">\n",
              "\n",
              "  <div class=\"colab-df-container\">\n",
              "    <button class=\"colab-df-convert\" onclick=\"convertToInteractive('df-4a66bda2-935f-43e3-b229-72710043cc05')\"\n",
              "            title=\"Convert this dataframe to an interactive table.\"\n",
              "            style=\"display:none;\">\n",
              "\n",
              "  <svg xmlns=\"http://www.w3.org/2000/svg\" height=\"24px\" viewBox=\"0 -960 960 960\">\n",
              "    <path d=\"M120-120v-720h720v720H120Zm60-500h600v-160H180v160Zm220 220h160v-160H400v160Zm0 220h160v-160H400v160ZM180-400h160v-160H180v160Zm440 0h160v-160H620v160ZM180-180h160v-160H180v160Zm440 0h160v-160H620v160Z\"/>\n",
              "  </svg>\n",
              "    </button>\n",
              "\n",
              "  <style>\n",
              "    .colab-df-container {\n",
              "      display:flex;\n",
              "      gap: 12px;\n",
              "    }\n",
              "\n",
              "    .colab-df-convert {\n",
              "      background-color: #E8F0FE;\n",
              "      border: none;\n",
              "      border-radius: 50%;\n",
              "      cursor: pointer;\n",
              "      display: none;\n",
              "      fill: #1967D2;\n",
              "      height: 32px;\n",
              "      padding: 0 0 0 0;\n",
              "      width: 32px;\n",
              "    }\n",
              "\n",
              "    .colab-df-convert:hover {\n",
              "      background-color: #E2EBFA;\n",
              "      box-shadow: 0px 1px 2px rgba(60, 64, 67, 0.3), 0px 1px 3px 1px rgba(60, 64, 67, 0.15);\n",
              "      fill: #174EA6;\n",
              "    }\n",
              "\n",
              "    .colab-df-buttons div {\n",
              "      margin-bottom: 4px;\n",
              "    }\n",
              "\n",
              "    [theme=dark] .colab-df-convert {\n",
              "      background-color: #3B4455;\n",
              "      fill: #D2E3FC;\n",
              "    }\n",
              "\n",
              "    [theme=dark] .colab-df-convert:hover {\n",
              "      background-color: #434B5C;\n",
              "      box-shadow: 0px 1px 3px 1px rgba(0, 0, 0, 0.15);\n",
              "      filter: drop-shadow(0px 1px 2px rgba(0, 0, 0, 0.3));\n",
              "      fill: #FFFFFF;\n",
              "    }\n",
              "  </style>\n",
              "\n",
              "    <script>\n",
              "      const buttonEl =\n",
              "        document.querySelector('#df-4a66bda2-935f-43e3-b229-72710043cc05 button.colab-df-convert');\n",
              "      buttonEl.style.display =\n",
              "        google.colab.kernel.accessAllowed ? 'block' : 'none';\n",
              "\n",
              "      async function convertToInteractive(key) {\n",
              "        const element = document.querySelector('#df-4a66bda2-935f-43e3-b229-72710043cc05');\n",
              "        const dataTable =\n",
              "          await google.colab.kernel.invokeFunction('convertToInteractive',\n",
              "                                                    [key], {});\n",
              "        if (!dataTable) return;\n",
              "\n",
              "        const docLinkHtml = 'Like what you see? Visit the ' +\n",
              "          '<a target=\"_blank\" href=https://colab.research.google.com/notebooks/data_table.ipynb>data table notebook</a>'\n",
              "          + ' to learn more about interactive tables.';\n",
              "        element.innerHTML = '';\n",
              "        dataTable['output_type'] = 'display_data';\n",
              "        await google.colab.output.renderOutput(dataTable, element);\n",
              "        const docLink = document.createElement('div');\n",
              "        docLink.innerHTML = docLinkHtml;\n",
              "        element.appendChild(docLink);\n",
              "      }\n",
              "    </script>\n",
              "  </div>\n",
              "\n",
              "\n",
              "    <div id=\"df-8c9f005c-a4e3-47b8-8e92-bffb8d0fe5fb\">\n",
              "      <button class=\"colab-df-quickchart\" onclick=\"quickchart('df-8c9f005c-a4e3-47b8-8e92-bffb8d0fe5fb')\"\n",
              "                title=\"Suggest charts\"\n",
              "                style=\"display:none;\">\n",
              "\n",
              "<svg xmlns=\"http://www.w3.org/2000/svg\" height=\"24px\"viewBox=\"0 0 24 24\"\n",
              "     width=\"24px\">\n",
              "    <g>\n",
              "        <path d=\"M19 3H5c-1.1 0-2 .9-2 2v14c0 1.1.9 2 2 2h14c1.1 0 2-.9 2-2V5c0-1.1-.9-2-2-2zM9 17H7v-7h2v7zm4 0h-2V7h2v10zm4 0h-2v-4h2v4z\"/>\n",
              "    </g>\n",
              "</svg>\n",
              "      </button>\n",
              "\n",
              "<style>\n",
              "  .colab-df-quickchart {\n",
              "      --bg-color: #E8F0FE;\n",
              "      --fill-color: #1967D2;\n",
              "      --hover-bg-color: #E2EBFA;\n",
              "      --hover-fill-color: #174EA6;\n",
              "      --disabled-fill-color: #AAA;\n",
              "      --disabled-bg-color: #DDD;\n",
              "  }\n",
              "\n",
              "  [theme=dark] .colab-df-quickchart {\n",
              "      --bg-color: #3B4455;\n",
              "      --fill-color: #D2E3FC;\n",
              "      --hover-bg-color: #434B5C;\n",
              "      --hover-fill-color: #FFFFFF;\n",
              "      --disabled-bg-color: #3B4455;\n",
              "      --disabled-fill-color: #666;\n",
              "  }\n",
              "\n",
              "  .colab-df-quickchart {\n",
              "    background-color: var(--bg-color);\n",
              "    border: none;\n",
              "    border-radius: 50%;\n",
              "    cursor: pointer;\n",
              "    display: none;\n",
              "    fill: var(--fill-color);\n",
              "    height: 32px;\n",
              "    padding: 0;\n",
              "    width: 32px;\n",
              "  }\n",
              "\n",
              "  .colab-df-quickchart:hover {\n",
              "    background-color: var(--hover-bg-color);\n",
              "    box-shadow: 0 1px 2px rgba(60, 64, 67, 0.3), 0 1px 3px 1px rgba(60, 64, 67, 0.15);\n",
              "    fill: var(--button-hover-fill-color);\n",
              "  }\n",
              "\n",
              "  .colab-df-quickchart-complete:disabled,\n",
              "  .colab-df-quickchart-complete:disabled:hover {\n",
              "    background-color: var(--disabled-bg-color);\n",
              "    fill: var(--disabled-fill-color);\n",
              "    box-shadow: none;\n",
              "  }\n",
              "\n",
              "  .colab-df-spinner {\n",
              "    border: 2px solid var(--fill-color);\n",
              "    border-color: transparent;\n",
              "    border-bottom-color: var(--fill-color);\n",
              "    animation:\n",
              "      spin 1s steps(1) infinite;\n",
              "  }\n",
              "\n",
              "  @keyframes spin {\n",
              "    0% {\n",
              "      border-color: transparent;\n",
              "      border-bottom-color: var(--fill-color);\n",
              "      border-left-color: var(--fill-color);\n",
              "    }\n",
              "    20% {\n",
              "      border-color: transparent;\n",
              "      border-left-color: var(--fill-color);\n",
              "      border-top-color: var(--fill-color);\n",
              "    }\n",
              "    30% {\n",
              "      border-color: transparent;\n",
              "      border-left-color: var(--fill-color);\n",
              "      border-top-color: var(--fill-color);\n",
              "      border-right-color: var(--fill-color);\n",
              "    }\n",
              "    40% {\n",
              "      border-color: transparent;\n",
              "      border-right-color: var(--fill-color);\n",
              "      border-top-color: var(--fill-color);\n",
              "    }\n",
              "    60% {\n",
              "      border-color: transparent;\n",
              "      border-right-color: var(--fill-color);\n",
              "    }\n",
              "    80% {\n",
              "      border-color: transparent;\n",
              "      border-right-color: var(--fill-color);\n",
              "      border-bottom-color: var(--fill-color);\n",
              "    }\n",
              "    90% {\n",
              "      border-color: transparent;\n",
              "      border-bottom-color: var(--fill-color);\n",
              "    }\n",
              "  }\n",
              "</style>\n",
              "\n",
              "      <script>\n",
              "        async function quickchart(key) {\n",
              "          const quickchartButtonEl =\n",
              "            document.querySelector('#' + key + ' button');\n",
              "          quickchartButtonEl.disabled = true;  // To prevent multiple clicks.\n",
              "          quickchartButtonEl.classList.add('colab-df-spinner');\n",
              "          try {\n",
              "            const charts = await google.colab.kernel.invokeFunction(\n",
              "                'suggestCharts', [key], {});\n",
              "          } catch (error) {\n",
              "            console.error('Error during call to suggestCharts:', error);\n",
              "          }\n",
              "          quickchartButtonEl.classList.remove('colab-df-spinner');\n",
              "          quickchartButtonEl.classList.add('colab-df-quickchart-complete');\n",
              "        }\n",
              "        (() => {\n",
              "          let quickchartButtonEl =\n",
              "            document.querySelector('#df-8c9f005c-a4e3-47b8-8e92-bffb8d0fe5fb button');\n",
              "          quickchartButtonEl.style.display =\n",
              "            google.colab.kernel.accessAllowed ? 'block' : 'none';\n",
              "        })();\n",
              "      </script>\n",
              "    </div>\n",
              "\n",
              "    </div>\n",
              "  </div>\n"
            ],
            "text/plain": [
              "       NLME_CURVE_ID     COSMIC_ID        DRUG_ID     COMPANY_ID  \\\n",
              "count   3.331610e+05  3.331610e+05  333161.000000  333161.000000   \n",
              "mean    1.574640e+07  9.862543e+05     724.246223    1034.074811   \n",
              "std     9.621394e+04  2.156635e+05     504.337777      17.333121   \n",
              "min     1.557976e+07  6.836670e+05       1.000000    1001.000000   \n",
              "25%     1.566308e+07  9.067980e+05     260.000000    1019.000000   \n",
              "50%     1.574640e+07  9.097130e+05     474.000000    1045.000000   \n",
              "75%     1.582973e+07  1.240138e+06    1197.000000    1045.000000   \n",
              "max     1.591305e+07  1.789883e+06    1531.000000    1046.000000   \n",
              "\n",
              "            MIN_CONC       MAX_CONC        LN_IC50            AUC  \\\n",
              "count  333161.000000  333161.000000  333161.000000  333161.000000   \n",
              "mean        0.145992      37.669829       2.072253       0.834389   \n",
              "std         1.206658     308.877466       2.592704       0.193911   \n",
              "min         0.000031       0.008000     -10.577744       0.005996   \n",
              "25%         0.010000       2.560000       0.692894       0.767623   \n",
              "50%         0.039063      10.000000       2.474976       0.916610   \n",
              "75%         0.040000      16.000000       3.936266       0.973122   \n",
              "max        15.625000    4000.000000      12.354552       0.999552   \n",
              "\n",
              "                RMSE       Z_SCORE  \n",
              "count  333161.000000  3.331610e+05  \n",
              "mean        0.085871  5.823010e-10  \n",
              "std         0.054749  9.993980e-01  \n",
              "min         0.001482 -1.006981e+01  \n",
              "25%         0.041263 -6.351450e-01  \n",
              "50%         0.072694  2.469400e-02  \n",
              "75%         0.117606  6.659890e-01  \n",
              "max         0.299965  5.660199e+00  "
            ]
          },
          "execution_count": 22,
          "metadata": {},
          "output_type": "execute_result"
        }
      ],
      "source": [
        "df.describe()"
      ]
    },
    {
      "cell_type": "markdown",
      "metadata": {
        "id": "bF0peOZkptmo"
      },
      "source": [
        "**Key findings**\n",
        "\n",
        "*   Concentration has wide range from 0.000031 to 15.625000 for MIN_CONC and 37.669829 to 4000 . Some drugs are tested at low concentration while other at very high concentration.\n",
        "*   Huge standard deviation (308.88) in MAX_CONC: Suggests right-skewed distribution—some drugs have very high doses.\n",
        "\n",
        "*   Mean of LN-IC50 is 2.07 indicating most drugs are moderate\n",
        "*   LN-IC50 may be skewed indicating there are few resistant drugs\n",
        "\n",
        "*   Max value of RMSE is 0.2999 idicating some models have high prediction errors\n",
        "*   High range of Z_SCORE indicates presence of outliers\n",
        "\n",
        "\n"
      ]
    },
    {
      "cell_type": "code",
      "execution_count": null,
      "metadata": {
        "colab": {
          "base_uri": "https://localhost:8080/"
        },
        "id": "QfoBod_sr-dj",
        "outputId": "08f32d75-2556-4449-c356-29dcadd432d3"
      },
      "outputs": [
        {
          "name": "stdout",
          "output_type": "stream",
          "text": [
            "<class 'pandas.core.frame.DataFrame'>\n",
            "RangeIndex: 333161 entries, 0 to 333160\n",
            "Data columns (total 17 columns):\n",
            " #   Column           Non-Null Count   Dtype  \n",
            "---  ------           --------------   -----  \n",
            " 0   NLME_CURVE_ID    333161 non-null  int64  \n",
            " 1   COSMIC_ID        333161 non-null  int64  \n",
            " 2   CELL_LINE_NAME   333161 non-null  object \n",
            " 3   SANGER_MODEL_ID  333161 non-null  object \n",
            " 4   TCGA_DESC        333161 non-null  object \n",
            " 5   DRUG_ID          333161 non-null  int64  \n",
            " 6   DRUG_NAME        333161 non-null  object \n",
            " 7   PUTATIVE_TARGET  333161 non-null  object \n",
            " 8   PATHWAY_NAME     333161 non-null  object \n",
            " 9   COMPANY_ID       333161 non-null  int64  \n",
            " 10  WEBRELEASE       333161 non-null  object \n",
            " 11  MIN_CONC         333161 non-null  float64\n",
            " 12  MAX_CONC         333161 non-null  float64\n",
            " 13  LN_IC50          333161 non-null  float64\n",
            " 14  AUC              333161 non-null  float64\n",
            " 15  RMSE             333161 non-null  float64\n",
            " 16  Z_SCORE          333161 non-null  float64\n",
            "dtypes: float64(6), int64(4), object(7)\n",
            "memory usage: 43.2+ MB\n"
          ]
        }
      ],
      "source": [
        "df.info()"
      ]
    },
    {
      "cell_type": "markdown",
      "metadata": {
        "id": "qMQssk3CsNIo"
      },
      "source": [
        "**STEP 5:SKEWNESS ANALYSIS**"
      ]
    },
    {
      "cell_type": "code",
      "execution_count": null,
      "metadata": {
        "colab": {
          "base_uri": "https://localhost:8080/",
          "height": 930
        },
        "id": "29H2t45isYdS",
        "outputId": "330e0f59-461c-4202-dcc2-eb63959edae0"
      },
      "outputs": [
        {
          "data": {
            "image/png": "[encoded data removed]",
            "text/plain": [
              "<Figure size 1200x1000 with 12 Axes>"
            ]
          },
          "metadata": {},
          "output_type": "display_data"
        }
      ],
      "source": [
        "df.hist(figsize=(12, 10), bins=30)\n",
        "plt.suptitle(\"Feature Distributions\")\n",
        "plt.show()"
      ]
    },
    {
      "cell_type": "markdown",
      "metadata": {
        "id": "U-HX6tjNv-sf"
      },
      "source": [
        "**STEP 5:OUTLIER ANALYSIS**"
      ]
    },
    {
      "cell_type": "code",
      "execution_count": null,
      "metadata": {
        "colab": {
          "base_uri": "https://localhost:8080/",
          "height": 545
        },
        "id": "qz6x77n2wA3O",
        "outputId": "507b41dc-8984-421a-a496-0c719042a029"
      },
      "outputs": [
        {
          "data": {
            "image/png": "[encoded data removed]",
            "text/plain": [
              "<Figure size 1000x600 with 1 Axes>"
            ]
          },
          "metadata": {},
          "output_type": "display_data"
        }
      ],
      "source": [
        "plt.figure(figsize=(10,6))\n",
        "sns.boxplot(data=df[['LN_IC50', 'AUC', 'RMSE']])\n",
        "plt.title(\"Boxplot for Outlier Detection\")\n",
        "plt.show()"
      ]
    },
    {
      "cell_type": "code",
      "execution_count": null,
      "metadata": {
        "colab": {
          "base_uri": "https://localhost:8080/"
        },
        "id": "zTZJQbtqwmMn",
        "outputId": "905777dd-c362-4130-f70e-b46ba63b24e5"
      },
      "outputs": [
        {
          "name": "stdout",
          "output_type": "stream",
          "text": [
            "Outliers based on IQR: 9178\n"
          ]
        }
      ],
      "source": [
        "LN_IC50_Q1 = df['LN_IC50'].quantile(0.25)\n",
        "LN_IC50_Q3 = df['LN_IC50'].quantile(0.75)\n",
        "LN_IC50_IQR = LN_IC50_Q3 - LN_IC50_Q1\n",
        "\n",
        "\n",
        "outliers_IQR = df[(df['LN_IC50'] < LN_IC50_Q1 - 1.5 * LN_IC50_IQR) | (df['LN_IC50'] > LN_IC50_Q3 + 1.5 * LN_IC50_IQR)]\n",
        "print(\"Outliers based on IQR:\", len(outliers_IQR))\n"
      ]
    },
    {
      "cell_type": "code",
      "execution_count": null,
      "metadata": {
        "colab": {
          "base_uri": "https://localhost:8080/"
        },
        "id": "G1-KyEOTxGY_",
        "outputId": "0518b8aa-33de-46da-96b9-1aec409bd992"
      },
      "outputs": [
        {
          "name": "stdout",
          "output_type": "stream",
          "text": [
            "Outliers based on IQR: 22374\n"
          ]
        }
      ],
      "source": [
        "AUC_Q1=df['AUC'].quantile(0.25)\n",
        "AUC_Q3=df['AUC'].quantile(0.75)\n",
        "AUC_IQR=AUC_Q3-AUC_Q1\n",
        "\n",
        "outliers_IQR=df[(df['AUC']<AUC_Q1-1.5*AUC_IQR)|(df['AUC']>AUC_Q3+1.5*AUC_IQR)]\n",
        "print(\"Outliers based on IQR:\",len(outliers_IQR))"
      ]
    },
    {
      "cell_type": "markdown",
      "metadata": {
        "id": "WG6P-BhXwHnP"
      },
      "source": [
        "**Key Findings**\n",
        "\n",
        "*   Presence of 9178 outliers in LN_IC50\n",
        "*   There are 22374 outliers in AUC\n",
        "\n"
      ]
    },
    {
      "cell_type": "markdown",
      "metadata": {
        "id": "WrnO5t2ytiy9"
      },
      "source": [
        "# FEATURE ENGINEERING\n"
      ]
    },
    {
      "cell_type": "markdown",
      "metadata": {
        "id": "Jnq_ALoeyDTT"
      },
      "source": [
        "**STEP 6:HANDLE SKEWNESS**"
      ]
    },
    {
      "cell_type": "code",
      "execution_count": null,
      "metadata": {
        "id": "-xGde6aBtiis"
      },
      "outputs": [],
      "source": [
        "df['RMSE_log'] = np.log1p(df['RMSE'])"
      ]
    },
    {
      "cell_type": "code",
      "execution_count": null,
      "metadata": {
        "colab": {
          "base_uri": "https://localhost:8080/",
          "height": 463
        },
        "id": "9gvoqehSuGNU",
        "outputId": "942daa66-ad63-4171-efc2-21397f172a98"
      },
      "outputs": [
        {
          "data": {
            "text/plain": [
              "<Axes: >"
            ]
          },
          "execution_count": 29,
          "metadata": {},
          "output_type": "execute_result"
        },
        {
          "data": {
            "image/png": "[encoded data removed]",
            "text/plain": [
              "<Figure size 500x500 with 1 Axes>"
            ]
          },
          "metadata": {},
          "output_type": "display_data"
        }
      ],
      "source": [
        "df['RMSE_log'].hist(figsize=(5,5))"
      ]
    },
    {
      "cell_type": "code",
      "execution_count": null,
      "metadata": {
        "id": "rMpqHvPHuqd3"
      },
      "outputs": [],
      "source": [
        "df['LNIC_50_cbrt'] = np.cbrt(df['LN_IC50'])"
      ]
    },
    {
      "cell_type": "code",
      "execution_count": null,
      "metadata": {
        "colab": {
          "base_uri": "https://localhost:8080/",
          "height": 463
        },
        "id": "XJtAYyz3vDMS",
        "outputId": "f37ac812-96cd-47d6-d0ab-a38cfdaa51de"
      },
      "outputs": [
        {
          "data": {
            "text/plain": [
              "<Axes: >"
            ]
          },
          "execution_count": 31,
          "metadata": {},
          "output_type": "execute_result"
        },
        {
          "data": {
            "image/png": "[encoded data removed]",
            "text/plain": [
              "<Figure size 500x500 with 1 Axes>"
            ]
          },
          "metadata": {},
          "output_type": "display_data"
        }
      ],
      "source": [
        "df['LNIC_50_cbrt'].hist(figsize=(5,5))"
      ]
    },
    {
      "cell_type": "code",
      "execution_count": null,
      "metadata": {
        "id": "U7F0kgyDvM4-"
      },
      "outputs": [],
      "source": [
        "df['AUC_cbrt']=np.cbrt(df['AUC'])"
      ]
    },
    {
      "cell_type": "code",
      "execution_count": null,
      "metadata": {
        "colab": {
          "base_uri": "https://localhost:8080/",
          "height": 463
        },
        "id": "hxxCvqhcvs-1",
        "outputId": "7007677c-2b79-4fee-9cca-095cacd1a23d"
      },
      "outputs": [
        {
          "data": {
            "text/plain": [
              "<Axes: >"
            ]
          },
          "execution_count": 34,
          "metadata": {},
          "output_type": "execute_result"
        },
        {
          "data": {
            "image/png": "[encoded data removed]",
            "text/plain": [
              "<Figure size 500x500 with 1 Axes>"
            ]
          },
          "metadata": {},
          "output_type": "display_data"
        }
      ],
      "source": [
        "df['AUC_cbrt'].hist(figsize=(5,5))"
      ]
    },
    {
      "cell_type": "markdown",
      "metadata": {
        "id": "Y7hkZekGxi_q"
      },
      "source": [
        "**STEP 7-WINSORIZATION OF OUTLIERS**"
      ]
    },
    {
      "cell_type": "code",
      "execution_count": null,
      "metadata": {
        "colab": {
          "base_uri": "https://localhost:8080/",
          "height": 463
        },
        "id": "V0MWZmyzv06N",
        "outputId": "9fd14718-818b-46d4-b149-8a8a325ac329"
      },
      "outputs": [
        {
          "data": {
            "text/plain": [
              "<Axes: >"
            ]
          },
          "execution_count": 35,
          "metadata": {},
          "output_type": "execute_result"
        },
        {
          "data": {
            "image/png": "[encoded data removed]",
            "text/plain": [
              "<Figure size 500x500 with 1 Axes>"
            ]
          },
          "metadata": {},
          "output_type": "display_data"
        }
      ],
      "source": [
        "from scipy.stats.mstats import winsorize\n",
        "\n",
        "df['LN_IC50_winsorized'] = winsorize(df['LN_IC50'], limits=[0.05, 0.05])\n",
        "df['LN_IC50_winsorized'].hist(figsize=(5,5))"
      ]
    },
    {
      "cell_type": "code",
      "execution_count": null,
      "metadata": {
        "colab": {
          "base_uri": "https://localhost:8080/",
          "height": 463
        },
        "id": "nCchH-why3K3",
        "outputId": "a22179ab-f189-4296-a2fb-9dc373f181e3"
      },
      "outputs": [
        {
          "data": {
            "text/plain": [
              "<Axes: >"
            ]
          },
          "execution_count": 36,
          "metadata": {},
          "output_type": "execute_result"
        },
        {
          "data": {
            "image/png": "[encoded data removed]",
            "text/plain": [
              "<Figure size 500x500 with 1 Axes>"
            ]
          },
          "metadata": {},
          "output_type": "display_data"
        }
      ],
      "source": [
        "df['AUC_winsorized'] = winsorize(df['AUC_cbrt'], limits=[0.05, 0.05])\n",
        "df['AUC_winsorized'].hist(figsize=(5,5))"
      ]
    },
    {
      "cell_type": "markdown",
      "metadata": {
        "id": "Fn5pfQ5SzpHh"
      },
      "source": [
        "**STEP 8:Process columns of Object type**"
      ]
    },
    {
      "cell_type": "code",
      "execution_count": null,
      "metadata": {
        "colab": {
          "base_uri": "https://localhost:8080/"
        },
        "id": "H0LPL0xezyjx",
        "outputId": "c5c54ce8-e5aa-44b6-fb58-027ff6c51a0b"
      },
      "outputs": [
        {
          "name": "stdout",
          "output_type": "stream",
          "text": [
            "Index(['CELL_LINE_NAME', 'SANGER_MODEL_ID', 'TCGA_DESC', 'DRUG_NAME',\n",
            "       'PUTATIVE_TARGET', 'PATHWAY_NAME', 'WEBRELEASE'],\n",
            "      dtype='object')\n"
          ]
        }
      ],
      "source": [
        "print(df.select_dtypes(include=['object']).columns)"
      ]
    },
    {
      "cell_type": "code",
      "execution_count": null,
      "metadata": {
        "colab": {
          "base_uri": "https://localhost:8080/"
        },
        "id": "FplKwjHj0C3p",
        "outputId": "4208f92a-c764-46ca-e697-654d7b4f0fdb"
      },
      "outputs": [
        {
          "data": {
            "text/plain": [
              "array(['UNCLASSIFIED', 'SKCM', 'GBM', 'LUAD', 'SCLC', 'NB', 'ESCA',\n",
              "       'BRCA', 'HNSC', 'LAML', 'BLCA', 'KIRC', 'MM', 'PAAD', 'LCML',\n",
              "       'LUSC', 'ALL', 'COREAD', 'LGG', 'OV', 'DLBC', 'MB', 'CLL', 'STAD',\n",
              "       'MESO', 'PRAD', 'THCA', 'UCEC', 'CESC', 'LIHC', 'ACC'],\n",
              "      dtype=object)"
            ]
          },
          "execution_count": 38,
          "metadata": {},
          "output_type": "execute_result"
        }
      ],
      "source": [
        "#Different cancer types\n",
        "df['TCGA_DESC'].unique()"
      ]
    },
    {
      "cell_type": "code",
      "execution_count": null,
      "metadata": {
        "id": "ex5dnRMX0Y6D"
      },
      "outputs": [],
      "source": [
        "from sklearn.preprocessing import LabelEncoder\n",
        "\n",
        "le = LabelEncoder()\n",
        "df['TCGA_DESC_encoded'] = le.fit_transform(df['TCGA_DESC'])\n"
      ]
    },
    {
      "cell_type": "code",
      "execution_count": null,
      "metadata": {
        "colab": {
          "base_uri": "https://localhost:8080/"
        },
        "id": "-GUGp4Rr0gUn",
        "outputId": "1651076a-587b-4351-f0f9-2264a93185df"
      },
      "outputs": [
        {
          "data": {
            "text/plain": [
              "array([30, 26,  9, 16, 25, 21,  8,  3, 10, 12,  2, 11, 20, 23, 13, 17,  1,\n",
              "        6, 14, 22,  7, 18,  5, 27, 19, 24, 28, 29,  4, 15,  0])"
            ]
          },
          "execution_count": 40,
          "metadata": {},
          "output_type": "execute_result"
        }
      ],
      "source": [
        "df['TCGA_DESC_encoded'].unique()"
      ]
    },
    {
      "cell_type": "code",
      "execution_count": null,
      "metadata": {
        "colab": {
          "base_uri": "https://localhost:8080/",
          "height": 241
        },
        "id": "DFulu5W90roa",
        "outputId": "5919f59b-3819-469a-e145-abbea0c906d1"
      },
      "outputs": [
        {
          "data": {
            "text/html": [
              "<div>\n",
              "<style scoped>\n",
              "    .dataframe tbody tr th:only-of-type {\n",
              "        vertical-align: middle;\n",
              "    }\n",
              "\n",
              "    .dataframe tbody tr th {\n",
              "        vertical-align: top;\n",
              "    }\n",
              "\n",
              "    .dataframe thead th {\n",
              "        text-align: right;\n",
              "    }\n",
              "</style>\n",
              "<table border=\"1\" class=\"dataframe\">\n",
              "  <thead>\n",
              "    <tr style=\"text-align: right;\">\n",
              "      <th></th>\n",
              "      <th>SANGER_MODEL_ID</th>\n",
              "    </tr>\n",
              "  </thead>\n",
              "  <tbody>\n",
              "    <tr>\n",
              "      <th>0</th>\n",
              "      <td>SIDM00263</td>\n",
              "    </tr>\n",
              "    <tr>\n",
              "      <th>1</th>\n",
              "      <td>SIDM00269</td>\n",
              "    </tr>\n",
              "    <tr>\n",
              "      <th>2</th>\n",
              "      <td>SIDM00203</td>\n",
              "    </tr>\n",
              "    <tr>\n",
              "      <th>3</th>\n",
              "      <td>SIDM01111</td>\n",
              "    </tr>\n",
              "    <tr>\n",
              "      <th>4</th>\n",
              "      <td>SIDM00909</td>\n",
              "    </tr>\n",
              "  </tbody>\n",
              "</table>\n",
              "</div><br><label><b>dtype:</b> object</label>"
            ],
            "text/plain": [
              "0    SIDM00263\n",
              "1    SIDM00269\n",
              "2    SIDM00203\n",
              "3    SIDM01111\n",
              "4    SIDM00909\n",
              "Name: SANGER_MODEL_ID, dtype: object"
            ]
          },
          "execution_count": 41,
          "metadata": {},
          "output_type": "execute_result"
        }
      ],
      "source": [
        "df['SANGER_MODEL_ID'].head()"
      ]
    },
    {
      "cell_type": "code",
      "execution_count": null,
      "metadata": {
        "id": "YcvQsROq1D6W"
      },
      "outputs": [],
      "source": [
        "freq_encoding = df['SANGER_MODEL_ID'].value_counts().to_dict()\n",
        "df['SANGER_encoded'] = df['SANGER_MODEL_ID'].map(freq_encoding)\n"
      ]
    },
    {
      "cell_type": "code",
      "execution_count": null,
      "metadata": {
        "colab": {
          "base_uri": "https://localhost:8080/"
        },
        "id": "qZ6VY8F_1Hpt",
        "outputId": "6cceb3a5-f73c-4e9f-eea1-f79d7c61d8ce"
      },
      "outputs": [
        {
          "data": {
            "text/plain": [
              "array([374, 392, 344, 388, 377, 394, 385, 386, 397, 358, 387, 170, 384,\n",
              "       395, 218, 310, 393, 288, 379, 389, 390, 382, 396, 261, 357, 368,\n",
              "       336, 301, 367, 391, 331, 365,  41, 378, 402, 398, 381, 361, 181,\n",
              "       383,  32, 295, 380, 287, 244, 376, 263, 366, 343, 350, 219, 364,\n",
              "       216, 164, 215, 269, 375, 209, 317, 353, 359, 400, 200, 362, 217,\n",
              "       178, 342, 265, 369, 314, 286, 272, 325, 349, 328, 283, 143, 370,\n",
              "       259, 347, 372, 371, 346,  25, 226,  23, 174,   1, 324, 345, 327,\n",
              "       354, 351, 339, 323, 318, 341, 340, 245, 352, 223, 305, 312, 320,\n",
              "       348, 321, 360, 329, 291, 311, 308, 356, 335, 313, 333, 246, 177,\n",
              "       326, 337, 290, 330, 338, 316, 224, 300, 302, 280, 294, 296, 315,\n",
              "       319, 235, 285, 297, 118, 304, 158, 233, 134, 135, 303, 299, 307,\n",
              "       309, 306, 258, 234, 195, 214, 206, 221, 227, 202, 222, 220, 194,\n",
              "       184, 176, 168, 169, 166, 173,  70, 139, 100])"
            ]
          },
          "execution_count": 43,
          "metadata": {},
          "output_type": "execute_result"
        }
      ],
      "source": [
        "df['SANGER_encoded'].unique()"
      ]
    },
    {
      "cell_type": "code",
      "execution_count": null,
      "metadata": {
        "colab": {
          "base_uri": "https://localhost:8080/",
          "height": 241
        },
        "id": "9eMqZY3h1RxB",
        "outputId": "06c0db97-b290-45a3-9232-e7e027345177"
      },
      "outputs": [
        {
          "data": {
            "text/html": [
              "<div>\n",
              "<style scoped>\n",
              "    .dataframe tbody tr th:only-of-type {\n",
              "        vertical-align: middle;\n",
              "    }\n",
              "\n",
              "    .dataframe tbody tr th {\n",
              "        vertical-align: top;\n",
              "    }\n",
              "\n",
              "    .dataframe thead th {\n",
              "        text-align: right;\n",
              "    }\n",
              "</style>\n",
              "<table border=\"1\" class=\"dataframe\">\n",
              "  <thead>\n",
              "    <tr style=\"text-align: right;\">\n",
              "      <th></th>\n",
              "      <th>DRUG_NAME</th>\n",
              "    </tr>\n",
              "  </thead>\n",
              "  <tbody>\n",
              "    <tr>\n",
              "      <th>0</th>\n",
              "      <td>Erlotinib</td>\n",
              "    </tr>\n",
              "    <tr>\n",
              "      <th>1</th>\n",
              "      <td>Erlotinib</td>\n",
              "    </tr>\n",
              "    <tr>\n",
              "      <th>2</th>\n",
              "      <td>Erlotinib</td>\n",
              "    </tr>\n",
              "    <tr>\n",
              "      <th>3</th>\n",
              "      <td>Erlotinib</td>\n",
              "    </tr>\n",
              "    <tr>\n",
              "      <th>4</th>\n",
              "      <td>Erlotinib</td>\n",
              "    </tr>\n",
              "  </tbody>\n",
              "</table>\n",
              "</div><br><label><b>dtype:</b> object</label>"
            ],
            "text/plain": [
              "0    Erlotinib\n",
              "1    Erlotinib\n",
              "2    Erlotinib\n",
              "3    Erlotinib\n",
              "4    Erlotinib\n",
              "Name: DRUG_NAME, dtype: object"
            ]
          },
          "execution_count": 44,
          "metadata": {},
          "output_type": "execute_result"
        }
      ],
      "source": [
        "df['DRUG_NAME'].head()"
      ]
    },
    {
      "cell_type": "code",
      "execution_count": null,
      "metadata": {
        "id": "J0Z15Q101h6j"
      },
      "outputs": [],
      "source": [
        "freq_encoding = df['DRUG_NAME'].value_counts().to_dict()\n",
        "df['DRUG_NAME_encoded'] = df['DRUG_NAME'].map(freq_encoding)"
      ]
    },
    {
      "cell_type": "code",
      "execution_count": null,
      "metadata": {
        "colab": {
          "base_uri": "https://localhost:8080/"
        },
        "id": "se5o5-f41lOO",
        "outputId": "6e91d861-f10f-449e-d0af-fe10f5b9a517"
      },
      "outputs": [
        {
          "data": {
            "text/plain": [
              "array([ 393,  357,  396,  405,  398,  395,  401,  392,  404,  403,  397,\n",
              "        394, 1305,  382,  400, 1307, 1792,  879, 1779,  870,  880,  877,\n",
              "       1735,  872,  915,  881, 1775, 1778,  864,  875, 1777,  873,  876,\n",
              "       1790,  868,  857,  869,  871,  907,  852,  862,  865,  867,  861,\n",
              "        856,  914,  901,  866,  916, 1841,  911,  902,  908,  912,  913,\n",
              "        784, 1004, 1821,  910, 1008,  917,  899,  893,  886,  909,  903,\n",
              "        918,  906,  900,  919,  890,  904,  905,  891,  898,  920, 1815,\n",
              "        925,  930, 1853,  923,  933,  927,  928, 1774, 1827,  932, 1851,\n",
              "        929,  840,  931,  921, 1832,  935, 1843,  926,  843,  846,  888,\n",
              "       1788,  895, 1786,  922,  924, 1797,  491,  490,   99,  492,  493,\n",
              "        131,  469,  780,  884,  897,  832,  834,  835,  836,  716,  720,\n",
              "        859, 1849,  692,  830])"
            ]
          },
          "execution_count": 46,
          "metadata": {},
          "output_type": "execute_result"
        }
      ],
      "source": [
        "df['DRUG_NAME_encoded'].unique()"
      ]
    },
    {
      "cell_type": "code",
      "execution_count": null,
      "metadata": {
        "colab": {
          "base_uri": "https://localhost:8080/"
        },
        "id": "hOzS8ycC1s_q",
        "outputId": "5256ccfb-cf2c-45dd-ca43-016ae19cbe51"
      },
      "outputs": [
        {
          "data": {
            "text/plain": [
              "array(['EGFR', 'MTORC1', 'PDGFR, KIT, VEGFR, FLT3, RET, CSF1R', 'MET',\n",
              "       'Proteasome, CAPN1', 'Microtubule stabiliser', 'SMO', 'BRAF',\n",
              "       'PDGFR, KIT, VEGFR, RAF', 'AURKA, AURKB, AURKC, others',\n",
              "       'ABL, KIT, PDGFR', 'ALK', 'MET, ALK, ROS1', 'ABL, SRC', 'KIF11',\n",
              "       'gamma-secretase', 'ABL, SRC, Ephrins, PDGFR, KIT', 'BCR-ABL',\n",
              "       'CDK1,CDK2,CDK5,CDK7,CDK9, PKC', 'CDK4', 'LCK, FYN', 'SRC, LCK',\n",
              "       'BMX', 'PLK1, PLK2, PLK3', 'IGF1R, IR', 'ITK', 'RSK2',\n",
              "       'Dihydrofolate reductase (DHFR)', 'MTOR', 'AKT1, AKT2, AKT3',\n",
              "       'PLK1', 'HDAC1, HDAC3', 'HDAC1', 'IKK', 'PI3Kbeta', 'Proteasome',\n",
              "       'ERK5, BET', 'CDK2, CDK7, CDK9', 'EIF2A', 'EGFR, ERBB2',\n",
              "       'ROCK1, ROCK2', 'Anthracycline', 'TOP2',\n",
              "       'Pyrimidine antimetabolite', 'DNA crosslinker',\n",
              "       'Microtubule destabiliser', 'SHP-1 (PTPN6), SHP-2 (PTPN11)', 'AR',\n",
              "       'ARFGAP1', 'ATM', 'PKC, PPK, FLT1, c-FGR, others', 'GSK3A, GSK3B',\n",
              "       'ABL, PDGFRA, VEGFR2, FGFR1, SRC, TIE2, FLT3', 'JNK2, JNK3',\n",
              "       'FAK, FAK2', 'BRD2, BRD3, BRD4, BRDT', 'HDAC1, HDAC2', 'HIF-PH',\n",
              "       'Farnesyl-transferase (FNTA)', 'PDK1 (PDPK1)', 'not defined',\n",
              "       'XIAP', 'PPARgamma, PPARdelta', 'Procaspase-3, Procaspase-7',\n",
              "       'PAK1', 'SGK2, SGK3', 'SYK', 'Antimetabolite (DNA & RNA)', 'SERCA',\n",
              "       'BCL2, BCL-XL, BCL-W, MCL1', 'IGF1R',\n",
              "       'Retinioic X receptor (RXR) agonist', 'dsDNA break induction',\n",
              "       'BTK', 'CSF1R', 'HSP90', 'Biguanide agent', 'PKC',\n",
              "       'CSF1R, KIT,  PDGFRA, PDGFRB', 'IKK1, IKK2',\n",
              "       'Amyloid beta20, Amyloid beta40', 'JAK1, JAK2', 'JNK1, JNK2, JNK2',\n",
              "       'KSP', 'CDK1, CDK2, CDK4, CDK6, CDK9', 'p38alpha, p38beta',\n",
              "       'PI3K (class 1)', 'PI3Kgamma', 'AURKA, AURKB', 'AURKA, AURKC',\n",
              "       'PKCB', 'RSK', 'BTK, BMX', 'PI3Kdelta',\n",
              "       'G9a and GLP methyltransferases',\n",
              "       'VEGFR, MET, RET, KIT, FLT1, FLT3, FLT4, TIE2,AXL',\n",
              "       'SRC, ROCK2, NTRK2, FLT3, IRAK1, others', 'ALK, CDK7, LTK, others',\n",
              "       'FLT3', 'ERBB2', 'LCK', 'PLK3', 'Autophagy inducer', 'TAK1, M4K2',\n",
              "       'TAK1, MAP4K2', 'ERK2', 'ERK1, ERK2', 'HDAC6',\n",
              "       'HDAC1, HDAC6, HDAC8', 'Endothelin-1 receptor (EDNRA)', 'BIRC5',\n",
              "       'MDM4', 'HDAC,RAR', 'HDAC1-10, EGFR, ERBB2', 'BRD2, BRD3, BRD4',\n",
              "       'HDAC1, HDAC6', 'VEGFR1, VEGFR2, VEGFR3, CSF1R, FLT3, KIT',\n",
              "       'MEK5, ERK5', 'PI3K (class 1), MTORC1, MTORC2', 'HDAC6, HDAC10',\n",
              "       'PDK1', 'JAK3', 'GSK3B', 'CDC7', 'KIT, PDGFRA, PDGFRB',\n",
              "       'KIT, PDGFRA, FLT3', 'MPS1', 'EPHB4, RAF, SRC, ABL', 'KIT, VEGFR2',\n",
              "       'MTORC1, MTORC2', 'RNA Polymerase 1', 'CDK2, CDK7, CDK5',\n",
              "       'PI3Kalpha, DAPK3, CLK4, PIM3, HIPK2', 'PK3CG', 'ALK5', 'IKK2',\n",
              "       'JAK2', 'MET, KDR, TIE2, VEGFR3/FLT4, RON, PDGFR, FGFR1, EGFR',\n",
              "       'ROCK', 'PIKFYVE', 'VEGFR1, VEGFR2, VEGFR3, PDGFR, KIT', 'mTOR',\n",
              "       'DDR1', 'MRCKB', 'CAMK2', 'LXR, FXR', 'SIRT1', 'SIRT', 'CDK9',\n",
              "       'CDK7', 'AKT', 'EGFR, ERBB2, ERBB4', 'GSK3', 'PI3K',\n",
              "       'PI3K (class 1), DNAPK, MTOR', 'VEGFR, PDGFR',\n",
              "       'VEGFR, PDGFR, FGFR', 'EGFR, ERBB4', 'mTOR, PI3K', 'LIMK1', 'PKD',\n",
              "       'Sphingosine Kinase', 'eEF2K', 'MetAP2', 'BCL-2 selective',\n",
              "       'Metabo, Mitochondria', 'Stearoyl-CoA desaturase',\n",
              "       'Anti-metabolite', 'TYMS', 'AURKA', 'CDK', 'FAS', 'Glycolysis',\n",
              "       'HDAC', 'XIAP, cIAP1, cIAP2', 'IKKb', 'MCL-1', 'MNK1, MNK2',\n",
              "       'P53 Mut specific', 'TGFBR1, ACVR1B, ACVR1C', 'TGFB', 'BMP', 'S1P',\n",
              "       'Bax activator', 'IDH2(R140Q)', 'RAS effector', 'PORCN', 'Shh',\n",
              "       'AMPK agonist', 'Antimetabolite', 'Retinoic acid',\n",
              "       'BCL2, BCL-XL, BCL-W', 'HDAC inhibitor Class I, IIa, IIb, IV',\n",
              "       'ABL', 'MEK1, MEK2', 'PARP1, PARP2', 'SRC, ABL, TEC', 'CRBN',\n",
              "       'PDGFR, KIT, VEGFR', 'CHEK1, CHEK2', 'NTRK1',\n",
              "       'FLT3, JAK2, NTRK1, NTRK2, NTRK3', 'p38', 'VEGFR, RET, KIT, PDGFR',\n",
              "       'TBK1, PDK1 (PDPK1), IKK, AURKB, AURKC', 'DNAPK',\n",
              "       'RSK, AURKB, PIM1, PIM3', 'p38, JNK2', 'JNK', 'WEE1, CHEK1',\n",
              "       'MDM2', 'MRE11', 'FGFR1, FGFR2, FGFR3', 'CDK1', 'AKT1, AKT2',\n",
              "       'CDK4, CDK6', 'PIK3CB', 'PPM1D', 'RAC1, RAC2, RAC3',\n",
              "       'JNK1, JNK2, JNK3', 'mTOR, LCK', 'CHEK1', 'S6K1',\n",
              "       'FGRF1, FGFR2, FGFR3', 'BCL2, BCL-XL, MCL1', 'IRAK1',\n",
              "       'LRRK2, ERK5', 'JNK1', 'ERK5', 'MTOR, ATR', 'TAK1', 'ATR',\n",
              "       'KS6B1 (p70S6K)', 'HSF1', 'ESR1', 'MTOR, ATM, ATR, DNAPK',\n",
              "       'BMX, BTK', 'DDR1, DDR2, SRC', 'BRD4', 'EGLN1', 'RNA helicase A',\n",
              "       'Induces reactive oxygen species', 'NAMPT',\n",
              "       'Peptidyl arginine deaminase (PAD)', 'JMJ histone demethylase',\n",
              "       'KDM6B', 'TRAIL receptor agonist', 'L3MBTL3', 'G9A, GLP', 'DOT1L',\n",
              "       'N-myristoyltransferase 1/2', 'TNKS1, TNKS2',\n",
              "       'MKNK1, MKNK2, PIM1, PIM3', 'MKNK1, MKNK2', 'ACACA', 'HDAC11',\n",
              "       'TTK and microtubules', 'DNA alkylating agent', 'DNA damage',\n",
              "       'CDK2', 'DYRK1B', 'EG5', 'EPHB4', 'EGFR, ERBB2, ERBB3', 'FEN1',\n",
              "       'FGFR4', 'FGFR1, FGFR2, FGFR3, FGFR4', 'GLS', 'IAP', 'IGFR1',\n",
              "       'JAK1', 'MCT1', 'MCT4', 'mTORC1, mTORC2', 'PI3Kbeta, PI3Kdelta',\n",
              "       'PI3Kalpha, PI3Kdelta', 'PIM1, PIM2, PIM3', 'ARAF, BRAF, CRAF',\n",
              "       'PARP1, PARP2, PARP7', 'PARP1, PARP2, PARP6',\n",
              "       'PARP1, PARP2, PARP5a', 'Tankyrase 1/2 (PARP5a, PARP5b)',\n",
              "       'NTRK1, NTRK2, NTRK3', 'TTK', 'TOP1', 'NAE',\n",
              "       'PB1, SMARCA4, SMARCA2', 'EP300, CBP'], dtype=object)"
            ]
          },
          "execution_count": 47,
          "metadata": {},
          "output_type": "execute_result"
        }
      ],
      "source": [
        "df['PUTATIVE_TARGET'].unique()"
      ]
    },
    {
      "cell_type": "code",
      "execution_count": null,
      "metadata": {
        "id": "pr2J_A2F2A-U"
      },
      "outputs": [],
      "source": [
        "target_mapping = {\n",
        "    'EGFR': 'Receptor Tyrosine Kinase',\n",
        "    'BRAF': 'MAPK Pathway',\n",
        "    'PI3K': 'PI3K-AKT Pathway',\n",
        "    'CDK1, CDK2, CDK9': 'Cell Cycle Regulation',\n",
        "    'VEGFR, PDGFR': 'Angiogenesis'\n",
        "}\n",
        "df['PUTATIVE_Target_Category'] = df['PUTATIVE_TARGET'].map(target_mapping).fillna('Other')\n"
      ]
    },
    {
      "cell_type": "code",
      "execution_count": null,
      "metadata": {
        "colab": {
          "base_uri": "https://localhost:8080/"
        },
        "id": "ObEIHdus2H28",
        "outputId": "26e0c42b-3e39-48c8-8c9c-b1c7020207bc"
      },
      "outputs": [
        {
          "data": {
            "text/plain": [
              "array(['Receptor Tyrosine Kinase', 'Other', 'MAPK Pathway',\n",
              "       'PI3K-AKT Pathway', 'Angiogenesis'], dtype=object)"
            ]
          },
          "execution_count": 49,
          "metadata": {},
          "output_type": "execute_result"
        }
      ],
      "source": [
        "df['PUTATIVE_Target_Category'].unique()"
      ]
    },
    {
      "cell_type": "code",
      "execution_count": null,
      "metadata": {
        "colab": {
          "base_uri": "https://localhost:8080/"
        },
        "id": "3Ba-077a2XkK",
        "outputId": "9bb8ae77-f0b6-4804-cf39-7be9fa9a5dfe"
      },
      "outputs": [
        {
          "data": {
            "text/plain": [
              "array([4, 2, 1, 3, 0])"
            ]
          },
          "execution_count": 50,
          "metadata": {},
          "output_type": "execute_result"
        }
      ],
      "source": [
        "df['Putative_TARGET_Category_endcoded'] = le.fit_transform(df['PUTATIVE_Target_Category'])\n",
        "df['Putative_TARGET_Category_endcoded'].unique()"
      ]
    },
    {
      "cell_type": "code",
      "execution_count": null,
      "metadata": {
        "id": "OXG2zXsx2saT"
      },
      "outputs": [],
      "source": [
        "df.drop(['WEBRELEASE','PATHWAY_NAME','CELL_LINE_NAME'],axis=1,inplace=True)"
      ]
    },
    {
      "cell_type": "markdown",
      "metadata": {
        "id": "VyDf9URo6KaH"
      },
      "source": [
        "**STEP 9: CREATE TARGET FEATURE**"
      ]
    },
    {
      "cell_type": "code",
      "execution_count": null,
      "metadata": {
        "id": "H1zFPEW47Ij3"
      },
      "outputs": [],
      "source": [
        "def classify_sensitivity(row):\n",
        "    if row['LN_IC50'] < -4.5 or row['AUC'] < 0.85 or row['Z_SCORE'] < -1.5:\n",
        "        return \"Sensitive\"\n",
        "    elif (-4.5 <= row['LN_IC50'] <= -2.5) or (0.85 <= row['AUC'] <= 1.15) or (-1.5 <= row['Z_SCORE'] <= 1.5):\n",
        "        return \"Intermediate\"\n",
        "    else:\n",
        "        return \"Resistant\"\n",
        "\n",
        "\n",
        "df['Sensitivity'] = df.apply(classify_sensitivity, axis=1)\n"
      ]
    },
    {
      "cell_type": "code",
      "execution_count": null,
      "metadata": {
        "colab": {
          "base_uri": "https://localhost:8080/",
          "height": 178
        },
        "id": "_jy-Deg_7V8U",
        "outputId": "14ea0b71-ee09-4e70-a901-3a4e2bcf9280"
      },
      "outputs": [
        {
          "data": {
            "text/html": [
              "<div>\n",
              "<style scoped>\n",
              "    .dataframe tbody tr th:only-of-type {\n",
              "        vertical-align: middle;\n",
              "    }\n",
              "\n",
              "    .dataframe tbody tr th {\n",
              "        vertical-align: top;\n",
              "    }\n",
              "\n",
              "    .dataframe thead th {\n",
              "        text-align: right;\n",
              "    }\n",
              "</style>\n",
              "<table border=\"1\" class=\"dataframe\">\n",
              "  <thead>\n",
              "    <tr style=\"text-align: right;\">\n",
              "      <th></th>\n",
              "      <th>count</th>\n",
              "    </tr>\n",
              "    <tr>\n",
              "      <th>Sensitivity</th>\n",
              "      <th></th>\n",
              "    </tr>\n",
              "  </thead>\n",
              "  <tbody>\n",
              "    <tr>\n",
              "      <th>Intermediate</th>\n",
              "      <td>208903</td>\n",
              "    </tr>\n",
              "    <tr>\n",
              "      <th>Sensitive</th>\n",
              "      <td>124258</td>\n",
              "    </tr>\n",
              "  </tbody>\n",
              "</table>\n",
              "</div><br><label><b>dtype:</b> int64</label>"
            ],
            "text/plain": [
              "Sensitivity\n",
              "Intermediate    208903\n",
              "Sensitive       124258\n",
              "Name: count, dtype: int64"
            ]
          },
          "execution_count": 53,
          "metadata": {},
          "output_type": "execute_result"
        }
      ],
      "source": [
        "df['Sensitivity'].value_counts()"
      ]
    },
    {
      "cell_type": "code",
      "execution_count": null,
      "metadata": {
        "id": "PKfs2vLf9eT_"
      },
      "outputs": [],
      "source": [
        "df['Sensitivity_encoded'] = le.fit_transform(df['Sensitivity'])"
      ]
    },
    {
      "cell_type": "markdown",
      "metadata": {
        "id": "x8kVB51389e4"
      },
      "source": [
        "**-Imbalance needs to be handled**"
      ]
    },
    {
      "cell_type": "markdown",
      "metadata": {
        "id": "b6fnTCIW4Q-j"
      },
      "source": [
        "**STEP 10: FEATURE SELECTION**"
      ]
    },
    {
      "cell_type": "code",
      "execution_count": null,
      "metadata": {
        "colab": {
          "base_uri": "https://localhost:8080/"
        },
        "id": "QtgB6taf9BvU",
        "outputId": "51bcb966-a675-461d-b929-d9ad4830480f"
      },
      "outputs": [
        {
          "name": "stdout",
          "output_type": "stream",
          "text": [
            "<class 'pandas.core.frame.DataFrame'>\n",
            "RangeIndex: 333161 entries, 0 to 333160\n",
            "Data columns (total 26 columns):\n",
            " #   Column                             Non-Null Count   Dtype  \n",
            "---  ------                             --------------   -----  \n",
            " 0   NLME_CURVE_ID                      333161 non-null  int64  \n",
            " 1   COSMIC_ID                          333161 non-null  int64  \n",
            " 2   SANGER_MODEL_ID                    333161 non-null  object \n",
            " 3   TCGA_DESC                          333161 non-null  object \n",
            " 4   DRUG_ID                            333161 non-null  int64  \n",
            " 5   DRUG_NAME                          333161 non-null  object \n",
            " 6   PUTATIVE_TARGET                    333161 non-null  object \n",
            " 7   COMPANY_ID                         333161 non-null  int64  \n",
            " 8   MIN_CONC                           333161 non-null  float64\n",
            " 9   MAX_CONC                           333161 non-null  float64\n",
            " 10  LN_IC50                            333161 non-null  float64\n",
            " 11  AUC                                333161 non-null  float64\n",
            " 12  RMSE                               333161 non-null  float64\n",
            " 13  Z_SCORE                            333161 non-null  float64\n",
            " 14  RMSE_log                           333161 non-null  float64\n",
            " 15  LNIC_50_cbrt                       333161 non-null  float64\n",
            " 16  AUC_cbrt                           333161 non-null  float64\n",
            " 17  LN_IC50_winsorized                 333161 non-null  float64\n",
            " 18  AUC_winsorized                     333161 non-null  float64\n",
            " 19  TCGA_DESC_encoded                  333161 non-null  int64  \n",
            " 20  SANGER_encoded                     333161 non-null  int64  \n",
            " 21  DRUG_NAME_encoded                  333161 non-null  int64  \n",
            " 22  PUTATIVE_Target_Category           333161 non-null  object \n",
            " 23  Putative_TARGET_Category_endcoded  333161 non-null  int64  \n",
            " 24  Sensitivity                        333161 non-null  object \n",
            " 25  Sensitivity_encoded                333161 non-null  int64  \n",
            "dtypes: float64(11), int64(9), object(6)\n",
            "memory usage: 66.1+ MB\n"
          ]
        }
      ],
      "source": [
        "df.info()"
      ]
    },
    {
      "cell_type": "code",
      "execution_count": null,
      "metadata": {
        "colab": {
          "base_uri": "https://localhost:8080/"
        },
        "id": "uK4W9fPH9WJK",
        "outputId": "5dadcdf4-dcde-444b-e58b-cefe65b472e7"
      },
      "outputs": [
        {
          "name": "stdout",
          "output_type": "stream",
          "text": [
            "Top Selected Features: Index(['AUC', 'AUC_cbrt', 'LN_IC50_winsorized', 'AUC_winsorized',\n",
            "       'Sensitivity_encoded'],\n",
            "      dtype='object')\n"
          ]
        }
      ],
      "source": [
        "from sklearn.feature_selection import SelectKBest, f_classif\n",
        "\n",
        "X = df.drop(columns=['NLME_CURVE_ID', 'COSMIC_ID', 'SANGER_MODEL_ID', 'TCGA_DESC', 'DRUG_ID', 'DRUG_NAME',\n",
        "                     'PUTATIVE_TARGET', 'COMPANY_ID', 'Sensitivity','PUTATIVE_Target_Category'])\n",
        "y = df['Sensitivity_encoded']\n",
        "\n",
        "# Apply SelectKBest with ANOVA F-score\n",
        "selector = SelectKBest(score_func=f_classif, k=5)  # Select top 5 features\n",
        "X_selected = selector.fit_transform(X, y)\n",
        "\n",
        "# Get selected feature names\n",
        "selected_features = X.columns[selector.get_support()]\n",
        "print(\"Top Selected Features:\", selected_features)\n"
      ]
    },
    {
      "cell_type": "code",
      "execution_count": null,
      "metadata": {
        "id": "YF6qW8m4--0d"
      },
      "outputs": [],
      "source": [
        "#Less features help to avoid overfitting\n",
        "data=df[['AUC', 'AUC_cbrt', 'LN_IC50_winsorized', 'AUC_winsorized',\n",
        "       'Sensitivity_encoded']]"
      ]
    },
    {
      "cell_type": "code",
      "execution_count": null,
      "metadata": {
        "colab": {
          "base_uri": "https://localhost:8080/",
          "height": 206
        },
        "id": "vqiSPV3R_E8I",
        "outputId": "816b39f9-901d-42b0-d7d1-beceff11a551"
      },
      "outputs": [
        {
          "data": {
            "application/vnd.google.colaboratory.intrinsic+json": {
              "type": "dataframe",
              "variable_name": "data"
            },
            "text/html": [
              "\n",
              "  <div id=\"df-500faec6-a225-467f-b7f7-2168ecfca08d\" class=\"colab-df-container\">\n",
              "    <div>\n",
              "<style scoped>\n",
              "    .dataframe tbody tr th:only-of-type {\n",
              "        vertical-align: middle;\n",
              "    }\n",
              "\n",
              "    .dataframe tbody tr th {\n",
              "        vertical-align: top;\n",
              "    }\n",
              "\n",
              "    .dataframe thead th {\n",
              "        text-align: right;\n",
              "    }\n",
              "</style>\n",
              "<table border=\"1\" class=\"dataframe\">\n",
              "  <thead>\n",
              "    <tr style=\"text-align: right;\">\n",
              "      <th></th>\n",
              "      <th>AUC</th>\n",
              "      <th>AUC_cbrt</th>\n",
              "      <th>LN_IC50_winsorized</th>\n",
              "      <th>AUC_winsorized</th>\n",
              "      <th>Sensitivity_encoded</th>\n",
              "    </tr>\n",
              "  </thead>\n",
              "  <tbody>\n",
              "    <tr>\n",
              "      <th>0</th>\n",
              "      <td>0.985678</td>\n",
              "      <td>0.995203</td>\n",
              "      <td>3.966813</td>\n",
              "      <td>0.995203</td>\n",
              "      <td>0</td>\n",
              "    </tr>\n",
              "    <tr>\n",
              "      <th>1</th>\n",
              "      <td>0.972690</td>\n",
              "      <td>0.990813</td>\n",
              "      <td>2.692090</td>\n",
              "      <td>0.990813</td>\n",
              "      <td>0</td>\n",
              "    </tr>\n",
              "    <tr>\n",
              "      <th>2</th>\n",
              "      <td>0.944459</td>\n",
              "      <td>0.981133</td>\n",
              "      <td>2.477990</td>\n",
              "      <td>0.981133</td>\n",
              "      <td>0</td>\n",
              "    </tr>\n",
              "    <tr>\n",
              "      <th>3</th>\n",
              "      <td>0.950758</td>\n",
              "      <td>0.983309</td>\n",
              "      <td>2.033564</td>\n",
              "      <td>0.983309</td>\n",
              "      <td>0</td>\n",
              "    </tr>\n",
              "    <tr>\n",
              "      <th>4</th>\n",
              "      <td>0.954778</td>\n",
              "      <td>0.984693</td>\n",
              "      <td>2.966007</td>\n",
              "      <td>0.984693</td>\n",
              "      <td>0</td>\n",
              "    </tr>\n",
              "  </tbody>\n",
              "</table>\n",
              "</div>\n",
              "    <div class=\"colab-df-buttons\">\n",
              "\n",
              "  <div class=\"colab-df-container\">\n",
              "    <button class=\"colab-df-convert\" onclick=\"convertToInteractive('df-500faec6-a225-467f-b7f7-2168ecfca08d')\"\n",
              "            title=\"Convert this dataframe to an interactive table.\"\n",
              "            style=\"display:none;\">\n",
              "\n",
              "  <svg xmlns=\"http://www.w3.org/2000/svg\" height=\"24px\" viewBox=\"0 -960 960 960\">\n",
              "    <path d=\"M120-120v-720h720v720H120Zm60-500h600v-160H180v160Zm220 220h160v-160H400v160Zm0 220h160v-160H400v160ZM180-400h160v-160H180v160Zm440 0h160v-160H620v160ZM180-180h160v-160H180v160Zm440 0h160v-160H620v160Z\"/>\n",
              "  </svg>\n",
              "    </button>\n",
              "\n",
              "  <style>\n",
              "    .colab-df-container {\n",
              "      display:flex;\n",
              "      gap: 12px;\n",
              "    }\n",
              "\n",
              "    .colab-df-convert {\n",
              "      background-color: #E8F0FE;\n",
              "      border: none;\n",
              "      border-radius: 50%;\n",
              "      cursor: pointer;\n",
              "      display: none;\n",
              "      fill: #1967D2;\n",
              "      height: 32px;\n",
              "      padding: 0 0 0 0;\n",
              "      width: 32px;\n",
              "    }\n",
              "\n",
              "    .colab-df-convert:hover {\n",
              "      background-color: #E2EBFA;\n",
              "      box-shadow: 0px 1px 2px rgba(60, 64, 67, 0.3), 0px 1px 3px 1px rgba(60, 64, 67, 0.15);\n",
              "      fill: #174EA6;\n",
              "    }\n",
              "\n",
              "    .colab-df-buttons div {\n",
              "      margin-bottom: 4px;\n",
              "    }\n",
              "\n",
              "    [theme=dark] .colab-df-convert {\n",
              "      background-color: #3B4455;\n",
              "      fill: #D2E3FC;\n",
              "    }\n",
              "\n",
              "    [theme=dark] .colab-df-convert:hover {\n",
              "      background-color: #434B5C;\n",
              "      box-shadow: 0px 1px 3px 1px rgba(0, 0, 0, 0.15);\n",
              "      filter: drop-shadow(0px 1px 2px rgba(0, 0, 0, 0.3));\n",
              "      fill: #FFFFFF;\n",
              "    }\n",
              "  </style>\n",
              "\n",
              "    <script>\n",
              "      const buttonEl =\n",
              "        document.querySelector('#df-500faec6-a225-467f-b7f7-2168ecfca08d button.colab-df-convert');\n",
              "      buttonEl.style.display =\n",
              "        google.colab.kernel.accessAllowed ? 'block' : 'none';\n",
              "\n",
              "      async function convertToInteractive(key) {\n",
              "        const element = document.querySelector('#df-500faec6-a225-467f-b7f7-2168ecfca08d');\n",
              "        const dataTable =\n",
              "          await google.colab.kernel.invokeFunction('convertToInteractive',\n",
              "                                                    [key], {});\n",
              "        if (!dataTable) return;\n",
              "\n",
              "        const docLinkHtml = 'Like what you see? Visit the ' +\n",
              "          '<a target=\"_blank\" href=https://colab.research.google.com/notebooks/data_table.ipynb>data table notebook</a>'\n",
              "          + ' to learn more about interactive tables.';\n",
              "        element.innerHTML = '';\n",
              "        dataTable['output_type'] = 'display_data';\n",
              "        await google.colab.output.renderOutput(dataTable, element);\n",
              "        const docLink = document.createElement('div');\n",
              "        docLink.innerHTML = docLinkHtml;\n",
              "        element.appendChild(docLink);\n",
              "      }\n",
              "    </script>\n",
              "  </div>\n",
              "\n",
              "\n",
              "    <div id=\"df-13310b86-d92b-4d03-9355-ef8946a92561\">\n",
              "      <button class=\"colab-df-quickchart\" onclick=\"quickchart('df-13310b86-d92b-4d03-9355-ef8946a92561')\"\n",
              "                title=\"Suggest charts\"\n",
              "                style=\"display:none;\">\n",
              "\n",
              "<svg xmlns=\"http://www.w3.org/2000/svg\" height=\"24px\"viewBox=\"0 0 24 24\"\n",
              "     width=\"24px\">\n",
              "    <g>\n",
              "        <path d=\"M19 3H5c-1.1 0-2 .9-2 2v14c0 1.1.9 2 2 2h14c1.1 0 2-.9 2-2V5c0-1.1-.9-2-2-2zM9 17H7v-7h2v7zm4 0h-2V7h2v10zm4 0h-2v-4h2v4z\"/>\n",
              "    </g>\n",
              "</svg>\n",
              "      </button>\n",
              "\n",
              "<style>\n",
              "  .colab-df-quickchart {\n",
              "      --bg-color: #E8F0FE;\n",
              "      --fill-color: #1967D2;\n",
              "      --hover-bg-color: #E2EBFA;\n",
              "      --hover-fill-color: #174EA6;\n",
              "      --disabled-fill-color: #AAA;\n",
              "      --disabled-bg-color: #DDD;\n",
              "  }\n",
              "\n",
              "  [theme=dark] .colab-df-quickchart {\n",
              "      --bg-color: #3B4455;\n",
              "      --fill-color: #D2E3FC;\n",
              "      --hover-bg-color: #434B5C;\n",
              "      --hover-fill-color: #FFFFFF;\n",
              "      --disabled-bg-color: #3B4455;\n",
              "      --disabled-fill-color: #666;\n",
              "  }\n",
              "\n",
              "  .colab-df-quickchart {\n",
              "    background-color: var(--bg-color);\n",
              "    border: none;\n",
              "    border-radius: 50%;\n",
              "    cursor: pointer;\n",
              "    display: none;\n",
              "    fill: var(--fill-color);\n",
              "    height: 32px;\n",
              "    padding: 0;\n",
              "    width: 32px;\n",
              "  }\n",
              "\n",
              "  .colab-df-quickchart:hover {\n",
              "    background-color: var(--hover-bg-color);\n",
              "    box-shadow: 0 1px 2px rgba(60, 64, 67, 0.3), 0 1px 3px 1px rgba(60, 64, 67, 0.15);\n",
              "    fill: var(--button-hover-fill-color);\n",
              "  }\n",
              "\n",
              "  .colab-df-quickchart-complete:disabled,\n",
              "  .colab-df-quickchart-complete:disabled:hover {\n",
              "    background-color: var(--disabled-bg-color);\n",
              "    fill: var(--disabled-fill-color);\n",
              "    box-shadow: none;\n",
              "  }\n",
              "\n",
              "  .colab-df-spinner {\n",
              "    border: 2px solid var(--fill-color);\n",
              "    border-color: transparent;\n",
              "    border-bottom-color: var(--fill-color);\n",
              "    animation:\n",
              "      spin 1s steps(1) infinite;\n",
              "  }\n",
              "\n",
              "  @keyframes spin {\n",
              "    0% {\n",
              "      border-color: transparent;\n",
              "      border-bottom-color: var(--fill-color);\n",
              "      border-left-color: var(--fill-color);\n",
              "    }\n",
              "    20% {\n",
              "      border-color: transparent;\n",
              "      border-left-color: var(--fill-color);\n",
              "      border-top-color: var(--fill-color);\n",
              "    }\n",
              "    30% {\n",
              "      border-color: transparent;\n",
              "      border-left-color: var(--fill-color);\n",
              "      border-top-color: var(--fill-color);\n",
              "      border-right-color: var(--fill-color);\n",
              "    }\n",
              "    40% {\n",
              "      border-color: transparent;\n",
              "      border-right-color: var(--fill-color);\n",
              "      border-top-color: var(--fill-color);\n",
              "    }\n",
              "    60% {\n",
              "      border-color: transparent;\n",
              "      border-right-color: var(--fill-color);\n",
              "    }\n",
              "    80% {\n",
              "      border-color: transparent;\n",
              "      border-right-color: var(--fill-color);\n",
              "      border-bottom-color: var(--fill-color);\n",
              "    }\n",
              "    90% {\n",
              "      border-color: transparent;\n",
              "      border-bottom-color: var(--fill-color);\n",
              "    }\n",
              "  }\n",
              "</style>\n",
              "\n",
              "      <script>\n",
              "        async function quickchart(key) {\n",
              "          const quickchartButtonEl =\n",
              "            document.querySelector('#' + key + ' button');\n",
              "          quickchartButtonEl.disabled = true;  // To prevent multiple clicks.\n",
              "          quickchartButtonEl.classList.add('colab-df-spinner');\n",
              "          try {\n",
              "            const charts = await google.colab.kernel.invokeFunction(\n",
              "                'suggestCharts', [key], {});\n",
              "          } catch (error) {\n",
              "            console.error('Error during call to suggestCharts:', error);\n",
              "          }\n",
              "          quickchartButtonEl.classList.remove('colab-df-spinner');\n",
              "          quickchartButtonEl.classList.add('colab-df-quickchart-complete');\n",
              "        }\n",
              "        (() => {\n",
              "          let quickchartButtonEl =\n",
              "            document.querySelector('#df-13310b86-d92b-4d03-9355-ef8946a92561 button');\n",
              "          quickchartButtonEl.style.display =\n",
              "            google.colab.kernel.accessAllowed ? 'block' : 'none';\n",
              "        })();\n",
              "      </script>\n",
              "    </div>\n",
              "\n",
              "    </div>\n",
              "  </div>\n"
            ],
            "text/plain": [
              "        AUC  AUC_cbrt  LN_IC50_winsorized  AUC_winsorized  Sensitivity_encoded\n",
              "0  0.985678  0.995203            3.966813        0.995203                    0\n",
              "1  0.972690  0.990813            2.692090        0.990813                    0\n",
              "2  0.944459  0.981133            2.477990        0.981133                    0\n",
              "3  0.950758  0.983309            2.033564        0.983309                    0\n",
              "4  0.954778  0.984693            2.966007        0.984693                    0"
            ]
          },
          "execution_count": 64,
          "metadata": {},
          "output_type": "execute_result"
        }
      ],
      "source": [
        "data.head()"
      ]
    },
    {
      "cell_type": "markdown",
      "metadata": {
        "id": "WEweI4AdAPQR"
      },
      "source": [
        "**STEP 11:NORMALIZE THE FINAL FEATURES**"
      ]
    },
    {
      "cell_type": "code",
      "execution_count": null,
      "metadata": {
        "id": "yiEeX3MEAN8M"
      },
      "outputs": [],
      "source": [
        "from sklearn.preprocessing import MinMaxScaler\n",
        "\n",
        "scaler = MinMaxScaler()\n",
        "df[[74444444'AUC', 'AUC_cbrt', 'LN_IC50_winsorized', 'AUC_winsorized']] = scaler.fit_transform(df[['AUC', 'AUC_cbrt', 'LN_IC50_winsorized', 'AUC_winsorized']])\n"
      ]
    },
    {
      "cell_type": "code",
      "execution_count": null,
      "metadata": {
        "colab": {
          "base_uri": "https://localhost:8080/",
          "height": 206
        },
        "id": "ZXqtsswYAWug",
        "outputId": "368cfd1d-f28a-4e87-c5e5-bbcb11e83703"
      },
      "outputs": [
        {
          "data": {
            "application/vnd.google.colaboratory.intrinsic+json": {
              "type": "dataframe",
              "variable_name": "data"
            },
            "text/html": [
              "\n",
              "  <div id=\"df-9826193d-ee00-4c72-87a5-38fce81a6c39\" class=\"colab-df-container\">\n",
              "    <div>\n",
              "<style scoped>\n",
              "    .dataframe tbody tr th:only-of-type {\n",
              "        vertical-align: middle;\n",
              "    }\n",
              "\n",
              "    .dataframe tbody tr th {\n",
              "        vertical-align: top;\n",
              "    }\n",
              "\n",
              "    .dataframe thead th {\n",
              "        text-align: right;\n",
              "    }\n",
              "</style>\n",
              "<table border=\"1\" class=\"dataframe\">\n",
              "  <thead>\n",
              "    <tr style=\"text-align: right;\">\n",
              "      <th></th>\n",
              "      <th>AUC</th>\n",
              "      <th>AUC_cbrt</th>\n",
              "      <th>LN_IC50_winsorized</th>\n",
              "      <th>AUC_winsorized</th>\n",
              "      <th>Sensitivity_encoded</th>\n",
              "    </tr>\n",
              "  </thead>\n",
              "  <tbody>\n",
              "    <tr>\n",
              "      <th>0</th>\n",
              "      <td>0.985678</td>\n",
              "      <td>0.995203</td>\n",
              "      <td>3.966813</td>\n",
              "      <td>0.995203</td>\n",
              "      <td>0</td>\n",
              "    </tr>\n",
              "    <tr>\n",
              "      <th>1</th>\n",
              "      <td>0.972690</td>\n",
              "      <td>0.990813</td>\n",
              "      <td>2.692090</td>\n",
              "      <td>0.990813</td>\n",
              "      <td>0</td>\n",
              "    </tr>\n",
              "    <tr>\n",
              "      <th>2</th>\n",
              "      <td>0.944459</td>\n",
              "      <td>0.981133</td>\n",
              "      <td>2.477990</td>\n",
              "      <td>0.981133</td>\n",
              "      <td>0</td>\n",
              "    </tr>\n",
              "    <tr>\n",
              "      <th>3</th>\n",
              "      <td>0.950758</td>\n",
              "      <td>0.983309</td>\n",
              "      <td>2.033564</td>\n",
              "      <td>0.983309</td>\n",
              "      <td>0</td>\n",
              "    </tr>\n",
              "    <tr>\n",
              "      <th>4</th>\n",
              "      <td>0.954778</td>\n",
              "      <td>0.984693</td>\n",
              "      <td>2.966007</td>\n",
              "      <td>0.984693</td>\n",
              "      <td>0</td>\n",
              "    </tr>\n",
              "  </tbody>\n",
              "</table>\n",
              "</div>\n",
              "    <div class=\"colab-df-buttons\">\n",
              "\n",
              "  <div class=\"colab-df-container\">\n",
              "    <button class=\"colab-df-convert\" onclick=\"convertToInteractive('df-9826193d-ee00-4c72-87a5-38fce81a6c39')\"\n",
              "            title=\"Convert this dataframe to an interactive table.\"\n",
              "            style=\"display:none;\">\n",
              "\n",
              "  <svg xmlns=\"http://www.w3.org/2000/svg\" height=\"24px\" viewBox=\"0 -960 960 960\">\n",
              "    <path d=\"M120-120v-720h720v720H120Zm60-500h600v-160H180v160Zm220 220h160v-160H400v160Zm0 220h160v-160H400v160ZM180-400h160v-160H180v160Zm440 0h160v-160H620v160ZM180-180h160v-160H180v160Zm440 0h160v-160H620v160Z\"/>\n",
              "  </svg>\n",
              "    </button>\n",
              "\n",
              "  <style>\n",
              "    .colab-df-container {\n",
              "      display:flex;\n",
              "      gap: 12px;\n",
              "    }\n",
              "\n",
              "    .colab-df-convert {\n",
              "      background-color: #E8F0FE;\n",
              "      border: none;\n",
              "      border-radius: 50%;\n",
              "      cursor: pointer;\n",
              "      display: none;\n",
              "      fill: #1967D2;\n",
              "      height: 32px;\n",
              "      padding: 0 0 0 0;\n",
              "      width: 32px;\n",
              "    }\n",
              "\n",
              "    .colab-df-convert:hover {\n",
              "      background-color: #E2EBFA;\n",
              "      box-shadow: 0px 1px 2px rgba(60, 64, 67, 0.3), 0px 1px 3px 1px rgba(60, 64, 67, 0.15);\n",
              "      fill: #174EA6;\n",
              "    }\n",
              "\n",
              "    .colab-df-buttons div {\n",
              "      margin-bottom: 4px;\n",
              "    }\n",
              "\n",
              "    [theme=dark] .colab-df-convert {\n",
              "      background-color: #3B4455;\n",
              "      fill: #D2E3FC;\n",
              "    }\n",
              "\n",
              "    [theme=dark] .colab-df-convert:hover {\n",
              "      background-color: #434B5C;\n",
              "      box-shadow: 0px 1px 3px 1px rgba(0, 0, 0, 0.15);\n",
              "      filter: drop-shadow(0px 1px 2px rgba(0, 0, 0, 0.3));\n",
              "      fill: #FFFFFF;\n",
              "    }\n",
              "  </style>\n",
              "\n",
              "    <script>\n",
              "      const buttonEl =\n",
              "        document.querySelector('#df-9826193d-ee00-4c72-87a5-38fce81a6c39 button.colab-df-convert');\n",
              "      buttonEl.style.display =\n",
              "        google.colab.kernel.accessAllowed ? 'block' : 'none';\n",
              "\n",
              "      async function convertToInteractive(key) {\n",
              "        const element = document.querySelector('#df-9826193d-ee00-4c72-87a5-38fce81a6c39');\n",
              "        const dataTable =\n",
              "          await google.colab.kernel.invokeFunction('convertToInteractive',\n",
              "                                                    [key], {});\n",
              "        if (!dataTable) return;\n",
              "\n",
              "        const docLinkHtml = 'Like what you see? Visit the ' +\n",
              "          '<a target=\"_blank\" href=https://colab.research.google.com/notebooks/data_table.ipynb>data table notebook</a>'\n",
              "          + ' to learn more about interactive tables.';\n",
              "        element.innerHTML = '';\n",
              "        dataTable['output_type'] = 'display_data';\n",
              "        await google.colab.output.renderOutput(dataTable, element);\n",
              "        const docLink = document.createElement('div');\n",
              "        docLink.innerHTML = docLinkHtml;\n",
              "        element.appendChild(docLink);\n",
              "      }\n",
              "    </script>\n",
              "  </div>\n",
              "\n",
              "\n",
              "    <div id=\"df-79bff42d-a0c0-45c6-8db6-37dcdb93d638\">\n",
              "      <button class=\"colab-df-quickchart\" onclick=\"quickchart('df-79bff42d-a0c0-45c6-8db6-37dcdb93d638')\"\n",
              "                title=\"Suggest charts\"\n",
              "                style=\"display:none;\">\n",
              "\n",
              "<svg xmlns=\"http://www.w3.org/2000/svg\" height=\"24px\"viewBox=\"0 0 24 24\"\n",
              "     width=\"24px\">\n",
              "    <g>\n",
              "        <path d=\"M19 3H5c-1.1 0-2 .9-2 2v14c0 1.1.9 2 2 2h14c1.1 0 2-.9 2-2V5c0-1.1-.9-2-2-2zM9 17H7v-7h2v7zm4 0h-2V7h2v10zm4 0h-2v-4h2v4z\"/>\n",
              "    </g>\n",
              "</svg>\n",
              "      </button>\n",
              "\n",
              "<style>\n",
              "  .colab-df-quickchart {\n",
              "      --bg-color: #E8F0FE;\n",
              "      --fill-color: #1967D2;\n",
              "      --hover-bg-color: #E2EBFA;\n",
              "      --hover-fill-color: #174EA6;\n",
              "      --disabled-fill-color: #AAA;\n",
              "      --disabled-bg-color: #DDD;\n",
              "  }\n",
              "\n",
              "  [theme=dark] .colab-df-quickchart {\n",
              "      --bg-color: #3B4455;\n",
              "      --fill-color: #D2E3FC;\n",
              "      --hover-bg-color: #434B5C;\n",
              "      --hover-fill-color: #FFFFFF;\n",
              "      --disabled-bg-color: #3B4455;\n",
              "      --disabled-fill-color: #666;\n",
              "  }\n",
              "\n",
              "  .colab-df-quickchart {\n",
              "    background-color: var(--bg-color);\n",
              "    border: none;\n",
              "    border-radius: 50%;\n",
              "    cursor: pointer;\n",
              "    display: none;\n",
              "    fill: var(--fill-color);\n",
              "    height: 32px;\n",
              "    padding: 0;\n",
              "    width: 32px;\n",
              "  }\n",
              "\n",
              "  .colab-df-quickchart:hover {\n",
              "    background-color: var(--hover-bg-color);\n",
              "    box-shadow: 0 1px 2px rgba(60, 64, 67, 0.3), 0 1px 3px 1px rgba(60, 64, 67, 0.15);\n",
              "    fill: var(--button-hover-fill-color);\n",
              "  }\n",
              "\n",
              "  .colab-df-quickchart-complete:disabled,\n",
              "  .colab-df-quickchart-complete:disabled:hover {\n",
              "    background-color: var(--disabled-bg-color);\n",
              "    fill: var(--disabled-fill-color);\n",
              "    box-shadow: none;\n",
              "  }\n",
              "\n",
              "  .colab-df-spinner {\n",
              "    border: 2px solid var(--fill-color);\n",
              "    border-color: transparent;\n",
              "    border-bottom-color: var(--fill-color);\n",
              "    animation:\n",
              "      spin 1s steps(1) infinite;\n",
              "  }\n",
              "\n",
              "  @keyframes spin {\n",
              "    0% {\n",
              "      border-color: transparent;\n",
              "      border-bottom-color: var(--fill-color);\n",
              "      border-left-color: var(--fill-color);\n",
              "    }\n",
              "    20% {\n",
              "      border-color: transparent;\n",
              "      border-left-color: var(--fill-color);\n",
              "      border-top-color: var(--fill-color);\n",
              "    }\n",
              "    30% {\n",
              "      border-color: transparent;\n",
              "      border-left-color: var(--fill-color);\n",
              "      border-top-color: var(--fill-color);\n",
              "      border-right-color: var(--fill-color);\n",
              "    }\n",
              "    40% {\n",
              "      border-color: transparent;\n",
              "      border-right-color: var(--fill-color);\n",
              "      border-top-color: var(--fill-color);\n",
              "    }\n",
              "    60% {\n",
              "      border-color: transparent;\n",
              "      border-right-color: var(--fill-color);\n",
              "    }\n",
              "    80% {\n",
              "      border-color: transparent;\n",
              "      border-right-color: var(--fill-color);\n",
              "      border-bottom-color: var(--fill-color);\n",
              "    }\n",
              "    90% {\n",
              "      border-color: transparent;\n",
              "      border-bottom-color: var(--fill-color);\n",
              "    }\n",
              "  }\n",
              "</style>\n",
              "\n",
              "      <script>\n",
              "        async function quickchart(key) {\n",
              "          const quickchartButtonEl =\n",
              "            document.querySelector('#' + key + ' button');\n",
              "          quickchartButtonEl.disabled = true;  // To prevent multiple clicks.\n",
              "          quickchartButtonEl.classList.add('colab-df-spinner');\n",
              "          try {\n",
              "            const charts = await google.colab.kernel.invokeFunction(\n",
              "                'suggestCharts', [key], {});\n",
              "          } catch (error) {\n",
              "            console.error('Error during call to suggestCharts:', error);\n",
              "          }\n",
              "          quickchartButtonEl.classList.remove('colab-df-spinner');\n",
              "          quickchartButtonEl.classList.add('colab-df-quickchart-complete');\n",
              "        }\n",
              "        (() => {\n",
              "          let quickchartButtonEl =\n",
              "            document.querySelector('#df-79bff42d-a0c0-45c6-8db6-37dcdb93d638 button');\n",
              "          quickchartButtonEl.style.display =\n",
              "            google.colab.kernel.accessAllowed ? 'block' : 'none';\n",
              "        })();\n",
              "      </script>\n",
              "    </div>\n",
              "\n",
              "    </div>\n",
              "  </div>\n"
            ],
            "text/plain": [
              "        AUC  AUC_cbrt  LN_IC50_winsorized  AUC_winsorized  Sensitivity_encoded\n",
              "0  0.985678  0.995203            3.966813        0.995203                    0\n",
              "1  0.972690  0.990813            2.692090        0.990813                    0\n",
              "2  0.944459  0.981133            2.477990        0.981133                    0\n",
              "3  0.950758  0.983309            2.033564        0.983309                    0\n",
              "4  0.954778  0.984693            2.966007        0.984693                    0"
            ]
          },
          "execution_count": 66,
          "metadata": {},
          "output_type": "execute_result"
        }
      ],
      "source": [
        "data.head()"
      ]
    },
    {
      "cell_type": "markdown",
      "metadata": {
        "id": "We5s8PfYBoFq"
      },
      "source": [
        "**STEP 12: TRAIN TEST SPLIT AND HANDLE IMBALANCE**"
      ]
    },
    {
      "cell_type": "code",
      "execution_count": null,
      "metadata": {
        "colab": {
          "base_uri": "https://localhost:8080/",
          "height": 178
        },
        "id": "NF1j-No5AalD",
        "outputId": "9d30911a-32d4-44dc-e299-8d26c49b7a77"
      },
      "outputs": [
        {
          "data": {
            "text/html": [
              "<div>\n",
              "<style scoped>\n",
              "    .dataframe tbody tr th:only-of-type {\n",
              "        vertical-align: middle;\n",
              "    }\n",
              "\n",
              "    .dataframe tbody tr th {\n",
              "        vertical-align: top;\n",
              "    }\n",
              "\n",
              "    .dataframe thead th {\n",
              "        text-align: right;\n",
              "    }\n",
              "</style>\n",
              "<table border=\"1\" class=\"dataframe\">\n",
              "  <thead>\n",
              "    <tr style=\"text-align: right;\">\n",
              "      <th></th>\n",
              "      <th>count</th>\n",
              "    </tr>\n",
              "    <tr>\n",
              "      <th>Sensitivity_encoded</th>\n",
              "      <th></th>\n",
              "    </tr>\n",
              "  </thead>\n",
              "  <tbody>\n",
              "    <tr>\n",
              "      <th>0</th>\n",
              "      <td>208903</td>\n",
              "    </tr>\n",
              "    <tr>\n",
              "      <th>1</th>\n",
              "      <td>124258</td>\n",
              "    </tr>\n",
              "  </tbody>\n",
              "</table>\n",
              "</div><br><label><b>dtype:</b> int64</label>"
            ],
            "text/plain": [
              "Sensitivity_encoded\n",
              "0    208903\n",
              "1    124258\n",
              "Name: count, dtype: int64"
            ]
          },
          "execution_count": 67,
          "metadata": {},
          "output_type": "execute_result"
        }
      ],
      "source": [
        "df['Sensitivity_encoded'].value_counts()"
      ]
    },
    {
      "cell_type": "code",
      "execution_count": null,
      "metadata": {
        "id": "JuzMqTvXArpP"
      },
      "outputs": [],
      "source": [
        "from imblearn.over_sampling import SMOTE\n",
        "from sklearn.model_selection import train_test_split"
      ]
    },
    {
      "cell_type": "code",
      "execution_count": null,
      "metadata": {
        "id": "3axPjvndAy9S"
      },
      "outputs": [],
      "source": [
        "# Define features and target\n",
        "X = data.drop(columns=['Sensitivity_encoded'])\n",
        "y = data['Sensitivity_encoded']\n",
        "\n",
        "\n",
        "X_train, X_test, y_train, y_test = train_test_split(X, y, test_size=0.2, random_state=42)\n"
      ]
    },
    {
      "cell_type": "code",
      "execution_count": null,
      "metadata": {
        "id": "sN6-3Xq3A-Dd"
      },
      "outputs": [],
      "source": [
        "smote = SMOTE(random_state=42)\n",
        "X_train_balanced, y_train_balanced = smote.fit_resample(X_train, y_train)"
      ]
    },
    {
      "cell_type": "code",
      "execution_count": null,
      "metadata": {
        "colab": {
          "base_uri": "https://localhost:8080/"
        },
        "id": "hXk4KY5OBGDP",
        "outputId": "23c6a0eb-461f-4b56-dcba-6d025a1116e4"
      },
      "outputs": [
        {
          "data": {
            "text/plain": [
              "(266528, 4)"
            ]
          },
          "execution_count": 71,
          "metadata": {},
          "output_type": "execute_result"
        }
      ],
      "source": [
        "X_train.shape"
      ]
    },
    {
      "cell_type": "code",
      "execution_count": null,
      "metadata": {
        "colab": {
          "base_uri": "https://localhost:8080/",
          "height": 178
        },
        "id": "0xlzJPhbBJSW",
        "outputId": "5b65c4d6-cd88-423b-f594-d26c13949a69"
      },
      "outputs": [
        {
          "data": {
            "text/html": [
              "<div>\n",
              "<style scoped>\n",
              "    .dataframe tbody tr th:only-of-type {\n",
              "        vertical-align: middle;\n",
              "    }\n",
              "\n",
              "    .dataframe tbody tr th {\n",
              "        vertical-align: top;\n",
              "    }\n",
              "\n",
              "    .dataframe thead th {\n",
              "        text-align: right;\n",
              "    }\n",
              "</style>\n",
              "<table border=\"1\" class=\"dataframe\">\n",
              "  <thead>\n",
              "    <tr style=\"text-align: right;\">\n",
              "      <th></th>\n",
              "      <th>count</th>\n",
              "    </tr>\n",
              "    <tr>\n",
              "      <th>Sensitivity_encoded</th>\n",
              "      <th></th>\n",
              "    </tr>\n",
              "  </thead>\n",
              "  <tbody>\n",
              "    <tr>\n",
              "      <th>0</th>\n",
              "      <td>167199</td>\n",
              "    </tr>\n",
              "    <tr>\n",
              "      <th>1</th>\n",
              "      <td>99329</td>\n",
              "    </tr>\n",
              "  </tbody>\n",
              "</table>\n",
              "</div><br><label><b>dtype:</b> int64</label>"
            ],
            "text/plain": [
              "Sensitivity_encoded\n",
              "0    167199\n",
              "1     99329\n",
              "Name: count, dtype: int64"
            ]
          },
          "execution_count": 72,
          "metadata": {},
          "output_type": "execute_result"
        }
      ],
      "source": [
        "y_train.value_counts()"
      ]
    },
    {
      "cell_type": "markdown",
      "metadata": {
        "id": "c-bZ_UrPCJCR"
      },
      "source": [
        "**STEP 13: Model training and prediction**"
      ]
    },
    {
      "cell_type": "code",
      "execution_count": null,
      "metadata": {
        "id": "WCwWkwvpCIqF"
      },
      "outputs": [],
      "source": [
        "from sklearn.linear_model import LogisticRegression\n",
        "from sklearn.svm import SVC\n",
        "from sklearn.neighbors import KNeighborsClassifier\n",
        "from sklearn.tree import DecisionTreeClassifier\n",
        "from sklearn.ensemble import RandomForestClassifier\n",
        "from sklearn.naive_bayes import GaussianNB\n",
        "from sklearn.ensemble import GradientBoostingClassifier,AdaBoostClassifier\n",
        "from xgboost import XGBClassifier\n",
        "from sklearn.metrics import accuracy_score, classification_report, confusion_matrix"
      ]
    },
    {
      "cell_type": "code",
      "execution_count": null,
      "metadata": {
        "id": "OmAyC651CQxt"
      },
      "outputs": [],
      "source": [
        "model_list={\n",
        "    'LogisticRegression':LogisticRegression(),\n",
        "    'SVC':SVC(),\n",
        "    'KNeighborsClassifier':KNeighborsClassifier(),\n",
        "    'DecisionTreeClassifier':DecisionTreeClassifier(),\n",
        "    'RandomForestClassifier':RandomForestClassifier(),\n",
        "    'GaussianNB':GaussianNB(),\n",
        "    'GradientBoostingClassifier':GradientBoostingClassifier(),\n",
        "    'AdaBoostClassifier':AdaBoostClassifier(),\n",
        "    'XGBClassifier':XGBClassifier()\n",
        "}"
      ]
    },
    {
      "cell_type": "code",
      "execution_count": null,
      "metadata": {
        "id": "LRnagxQ6CW2y"
      },
      "outputs": [],
      "source": [
        "result=[]\n",
        "for model in model_list:\n",
        "  model_list[model].fit(X_train_balanced,y_train_balanced)\n",
        "  y_pred=model_list[model].predict(X_test)\n",
        "  acc=accuracy_score(y_test,y_pred)\n",
        "  result.append([model,acc])"
      ]
    },
    {
      "cell_type": "code",
      "execution_count": null,
      "metadata": {
        "colab": {
          "base_uri": "https://localhost:8080/"
        },
        "id": "5_zjWQZRHC_B",
        "outputId": "100e9907-52bc-425b-e10e-98e9cc3b033e"
      },
      "outputs": [
        {
          "data": {
            "text/plain": [
              "[['LogisticRegression', 0.9658427505890474],\n",
              " ['SVC', 0.9700748878183483],\n",
              " ['KNeighborsClassifier', 0.9790194047994237],\n",
              " ['DecisionTreeClassifier', 0.9667582128975133],\n",
              " ['RandomForestClassifier', 0.9828913601368692],\n",
              " ['GaussianNB', 0.9607551813665901],\n",
              " ['GradientBoostingClassifier', 0.9857277925352302],\n",
              " ['AdaBoostClassifier', 0.9857878228505396],\n",
              " ['XGBClassifier', 0.9850524514880015]]"
            ]
          },
          "execution_count": 76,
          "metadata": {},
          "output_type": "execute_result"
        }
      ],
      "source": [
        "result"
      ]
    },
    {
      "cell_type": "code",
      "execution_count": null,
      "metadata": {
        "colab": {
          "base_uri": "https://localhost:8080/",
          "height": 97
        },
        "id": "fE3kWsGKHTa8",
        "outputId": "9ced2bed-b6d6-4a2c-a64e-02f57cbab68f"
      },
      "outputs": [
        {
          "data": {
            "text/html": [
              "<style>#sk-container-id-1 {\n",
              "  /* Definition of color scheme common for light and dark mode */\n",
              "  --sklearn-color-text: #000;\n",
              "  --sklearn-color-text-muted: #666;\n",
              "  --sklearn-color-line: gray;\n",
              "  /* Definition of color scheme for unfitted estimators */\n",
              "  --sklearn-color-unfitted-level-0: #fff5e6;\n",
              "  --sklearn-color-unfitted-level-1: #f6e4d2;\n",
              "  --sklearn-color-unfitted-level-2: #ffe0b3;\n",
              "  --sklearn-color-unfitted-level-3: chocolate;\n",
              "  /* Definition of color scheme for fitted estimators */\n",
              "  --sklearn-color-fitted-level-0: #f0f8ff;\n",
              "  --sklearn-color-fitted-level-1: #d4ebff;\n",
              "  --sklearn-color-fitted-level-2: #b3dbfd;\n",
              "  --sklearn-color-fitted-level-3: cornflowerblue;\n",
              "\n",
              "  /* Specific color for light theme */\n",
              "  --sklearn-color-text-on-default-background: var(--sg-text-color, var(--theme-code-foreground, var(--jp-content-font-color1, black)));\n",
              "  --sklearn-color-background: var(--sg-background-color, var(--theme-background, var(--jp-layout-color0, white)));\n",
              "  --sklearn-color-border-box: var(--sg-text-color, var(--theme-code-foreground, var(--jp-content-font-color1, black)));\n",
              "  --sklearn-color-icon: #696969;\n",
              "\n",
              "  @media (prefers-color-scheme: dark) {\n",
              "    /* Redefinition of color scheme for dark theme */\n",
              "    --sklearn-color-text-on-default-background: var(--sg-text-color, var(--theme-code-foreground, var(--jp-content-font-color1, white)));\n",
              "    --sklearn-color-background: var(--sg-background-color, var(--theme-background, var(--jp-layout-color0, #111)));\n",
              "    --sklearn-color-border-box: var(--sg-text-color, var(--theme-code-foreground, var(--jp-content-font-color1, white)));\n",
              "    --sklearn-color-icon: #878787;\n",
              "  }\n",
              "}\n",
              "\n",
              "#sk-container-id-1 {\n",
              "  color: var(--sklearn-color-text);\n",
              "}\n",
              "\n",
              "#sk-container-id-1 pre {\n",
              "  padding: 0;\n",
              "}\n",
              "\n",
              "#sk-container-id-1 input.sk-hidden--visually {\n",
              "  border: 0;\n",
              "  clip: rect(1px 1px 1px 1px);\n",
              "  clip: rect(1px, 1px, 1px, 1px);\n",
              "  height: 1px;\n",
              "  margin: -1px;\n",
              "  overflow: hidden;\n",
              "  padding: 0;\n",
              "  position: absolute;\n",
              "  width: 1px;\n",
              "}\n",
              "\n",
              "#sk-container-id-1 div.sk-dashed-wrapped {\n",
              "  border: 1px dashed var(--sklearn-color-line);\n",
              "  margin: 0 0.4em 0.5em 0.4em;\n",
              "  box-sizing: border-box;\n",
              "  padding-bottom: 0.4em;\n",
              "  background-color: var(--sklearn-color-background);\n",
              "}\n",
              "\n",
              "#sk-container-id-1 div.sk-container {\n",
              "  /* jupyter's `normalize.less` sets `[hidden] { display: none; }`\n",
              "     but bootstrap.min.css set `[hidden] { display: none !important; }`\n",
              "     so we also need the `!important` here to be able to override the\n",
              "     default hidden behavior on the sphinx rendered scikit-learn.org.\n",
              "     See: https://github.com/scikit-learn/scikit-learn/issues/21755 */\n",
              "  display: inline-block !important;\n",
              "  position: relative;\n",
              "}\n",
              "\n",
              "#sk-container-id-1 div.sk-text-repr-fallback {\n",
              "  display: none;\n",
              "}\n",
              "\n",
              "div.sk-parallel-item,\n",
              "div.sk-serial,\n",
              "div.sk-item {\n",
              "  /* draw centered vertical line to link estimators */\n",
              "  background-image: linear-gradient(var(--sklearn-color-text-on-default-background), var(--sklearn-color-text-on-default-background));\n",
              "  background-size: 2px 100%;\n",
              "  background-repeat: no-repeat;\n",
              "  background-position: center center;\n",
              "}\n",
              "\n",
              "/* Parallel-specific style estimator block */\n",
              "\n",
              "#sk-container-id-1 div.sk-parallel-item::after {\n",
              "  content: \"\";\n",
              "  width: 100%;\n",
              "  border-bottom: 2px solid var(--sklearn-color-text-on-default-background);\n",
              "  flex-grow: 1;\n",
              "}\n",
              "\n",
              "#sk-container-id-1 div.sk-parallel {\n",
              "  display: flex;\n",
              "  align-items: stretch;\n",
              "  justify-content: center;\n",
              "  background-color: var(--sklearn-color-background);\n",
              "  position: relative;\n",
              "}\n",
              "\n",
              "#sk-container-id-1 div.sk-parallel-item {\n",
              "  display: flex;\n",
              "  flex-direction: column;\n",
              "}\n",
              "\n",
              "#sk-container-id-1 div.sk-parallel-item:first-child::after {\n",
              "  align-self: flex-end;\n",
              "  width: 50%;\n",
              "}\n",
              "\n",
              "#sk-container-id-1 div.sk-parallel-item:last-child::after {\n",
              "  align-self: flex-start;\n",
              "  width: 50%;\n",
              "}\n",
              "\n",
              "#sk-container-id-1 div.sk-parallel-item:only-child::after {\n",
              "  width: 0;\n",
              "}\n",
              "\n",
              "/* Serial-specific style estimator block */\n",
              "\n",
              "#sk-container-id-1 div.sk-serial {\n",
              "  display: flex;\n",
              "  flex-direction: column;\n",
              "  align-items: center;\n",
              "  background-color: var(--sklearn-color-background);\n",
              "  padding-right: 1em;\n",
              "  padding-left: 1em;\n",
              "}\n",
              "\n",
              "\n",
              "/* Toggleable style: style used for estimator/Pipeline/ColumnTransformer box that is\n",
              "clickable and can be expanded/collapsed.\n",
              "- Pipeline and ColumnTransformer use this feature and define the default style\n",
              "- Estimators will overwrite some part of the style using the `sk-estimator` class\n",
              "*/\n",
              "\n",
              "/* Pipeline and ColumnTransformer style (default) */\n",
              "\n",
              "#sk-container-id-1 div.sk-toggleable {\n",
              "  /* Default theme specific background. It is overwritten whether we have a\n",
              "  specific estimator or a Pipeline/ColumnTransformer */\n",
              "  background-color: var(--sklearn-color-background);\n",
              "}\n",
              "\n",
              "/* Toggleable label */\n",
              "#sk-container-id-1 label.sk-toggleable__label {\n",
              "  cursor: pointer;\n",
              "  display: flex;\n",
              "  width: 100%;\n",
              "  margin-bottom: 0;\n",
              "  padding: 0.5em;\n",
              "  box-sizing: border-box;\n",
              "  text-align: center;\n",
              "  align-items: start;\n",
              "  justify-content: space-between;\n",
              "  gap: 0.5em;\n",
              "}\n",
              "\n",
              "#sk-container-id-1 label.sk-toggleable__label .caption {\n",
              "  font-size: 0.6rem;\n",
              "  font-weight: lighter;\n",
              "  color: var(--sklearn-color-text-muted);\n",
              "}\n",
              "\n",
              "#sk-container-id-1 label.sk-toggleable__label-arrow:before {\n",
              "  /* Arrow on the left of the label */\n",
              "  content: \"▸\";\n",
              "  float: left;\n",
              "  margin-right: 0.25em;\n",
              "  color: var(--sklearn-color-icon);\n",
              "}\n",
              "\n",
              "#sk-container-id-1 label.sk-toggleable__label-arrow:hover:before {\n",
              "  color: var(--sklearn-color-text);\n",
              "}\n",
              "\n",
              "/* Toggleable content - dropdown */\n",
              "\n",
              "#sk-container-id-1 div.sk-toggleable__content {\n",
              "  max-height: 0;\n",
              "  max-width: 0;\n",
              "  overflow: hidden;\n",
              "  text-align: left;\n",
              "  /* unfitted */\n",
              "  background-color: var(--sklearn-color-unfitted-level-0);\n",
              "}\n",
              "\n",
              "#sk-container-id-1 div.sk-toggleable__content.fitted {\n",
              "  /* fitted */\n",
              "  background-color: var(--sklearn-color-fitted-level-0);\n",
              "}\n",
              "\n",
              "#sk-container-id-1 div.sk-toggleable__content pre {\n",
              "  margin: 0.2em;\n",
              "  border-radius: 0.25em;\n",
              "  color: var(--sklearn-color-text);\n",
              "  /* unfitted */\n",
              "  background-color: var(--sklearn-color-unfitted-level-0);\n",
              "}\n",
              "\n",
              "#sk-container-id-1 div.sk-toggleable__content.fitted pre {\n",
              "  /* unfitted */\n",
              "  background-color: var(--sklearn-color-fitted-level-0);\n",
              "}\n",
              "\n",
              "#sk-container-id-1 input.sk-toggleable__control:checked~div.sk-toggleable__content {\n",
              "  /* Expand drop-down */\n",
              "  max-height: 200px;\n",
              "  max-width: 100%;\n",
              "  overflow: auto;\n",
              "}\n",
              "\n",
              "#sk-container-id-1 input.sk-toggleable__control:checked~label.sk-toggleable__label-arrow:before {\n",
              "  content: \"▾\";\n",
              "}\n",
              "\n",
              "/* Pipeline/ColumnTransformer-specific style */\n",
              "\n",
              "#sk-container-id-1 div.sk-label input.sk-toggleable__control:checked~label.sk-toggleable__label {\n",
              "  color: var(--sklearn-color-text);\n",
              "  background-color: var(--sklearn-color-unfitted-level-2);\n",
              "}\n",
              "\n",
              "#sk-container-id-1 div.sk-label.fitted input.sk-toggleable__control:checked~label.sk-toggleable__label {\n",
              "  background-color: var(--sklearn-color-fitted-level-2);\n",
              "}\n",
              "\n",
              "/* Estimator-specific style */\n",
              "\n",
              "/* Colorize estimator box */\n",
              "#sk-container-id-1 div.sk-estimator input.sk-toggleable__control:checked~label.sk-toggleable__label {\n",
              "  /* unfitted */\n",
              "  background-color: var(--sklearn-color-unfitted-level-2);\n",
              "}\n",
              "\n",
              "#sk-container-id-1 div.sk-estimator.fitted input.sk-toggleable__control:checked~label.sk-toggleable__label {\n",
              "  /* fitted */\n",
              "  background-color: var(--sklearn-color-fitted-level-2);\n",
              "}\n",
              "\n",
              "#sk-container-id-1 div.sk-label label.sk-toggleable__label,\n",
              "#sk-container-id-1 div.sk-label label {\n",
              "  /* The background is the default theme color */\n",
              "  color: var(--sklearn-color-text-on-default-background);\n",
              "}\n",
              "\n",
              "/* On hover, darken the color of the background */\n",
              "#sk-container-id-1 div.sk-label:hover label.sk-toggleable__label {\n",
              "  color: var(--sklearn-color-text);\n",
              "  background-color: var(--sklearn-color-unfitted-level-2);\n",
              "}\n",
              "\n",
              "/* Label box, darken color on hover, fitted */\n",
              "#sk-container-id-1 div.sk-label.fitted:hover label.sk-toggleable__label.fitted {\n",
              "  color: var(--sklearn-color-text);\n",
              "  background-color: var(--sklearn-color-fitted-level-2);\n",
              "}\n",
              "\n",
              "/* Estimator label */\n",
              "\n",
              "#sk-container-id-1 div.sk-label label {\n",
              "  font-family: monospace;\n",
              "  font-weight: bold;\n",
              "  display: inline-block;\n",
              "  line-height: 1.2em;\n",
              "}\n",
              "\n",
              "#sk-container-id-1 div.sk-label-container {\n",
              "  text-align: center;\n",
              "}\n",
              "\n",
              "/* Estimator-specific */\n",
              "#sk-container-id-1 div.sk-estimator {\n",
              "  font-family: monospace;\n",
              "  border: 1px dotted var(--sklearn-color-border-box);\n",
              "  border-radius: 0.25em;\n",
              "  box-sizing: border-box;\n",
              "  margin-bottom: 0.5em;\n",
              "  /* unfitted */\n",
              "  background-color: var(--sklearn-color-unfitted-level-0);\n",
              "}\n",
              "\n",
              "#sk-container-id-1 div.sk-estimator.fitted {\n",
              "  /* fitted */\n",
              "  background-color: var(--sklearn-color-fitted-level-0);\n",
              "}\n",
              "\n",
              "/* on hover */\n",
              "#sk-container-id-1 div.sk-estimator:hover {\n",
              "  /* unfitted */\n",
              "  background-color: var(--sklearn-color-unfitted-level-2);\n",
              "}\n",
              "\n",
              "#sk-container-id-1 div.sk-estimator.fitted:hover {\n",
              "  /* fitted */\n",
              "  background-color: var(--sklearn-color-fitted-level-2);\n",
              "}\n",
              "\n",
              "/* Specification for estimator info (e.g. \"i\" and \"?\") */\n",
              "\n",
              "/* Common style for \"i\" and \"?\" */\n",
              "\n",
              ".sk-estimator-doc-link,\n",
              "a:link.sk-estimator-doc-link,\n",
              "a:visited.sk-estimator-doc-link {\n",
              "  float: right;\n",
              "  font-size: smaller;\n",
              "  line-height: 1em;\n",
              "  font-family: monospace;\n",
              "  background-color: var(--sklearn-color-background);\n",
              "  border-radius: 1em;\n",
              "  height: 1em;\n",
              "  width: 1em;\n",
              "  text-decoration: none !important;\n",
              "  margin-left: 0.5em;\n",
              "  text-align: center;\n",
              "  /* unfitted */\n",
              "  border: var(--sklearn-color-unfitted-level-1) 1pt solid;\n",
              "  color: var(--sklearn-color-unfitted-level-1);\n",
              "}\n",
              "\n",
              ".sk-estimator-doc-link.fitted,\n",
              "a:link.sk-estimator-doc-link.fitted,\n",
              "a:visited.sk-estimator-doc-link.fitted {\n",
              "  /* fitted */\n",
              "  border: var(--sklearn-color-fitted-level-1) 1pt solid;\n",
              "  color: var(--sklearn-color-fitted-level-1);\n",
              "}\n",
              "\n",
              "/* On hover */\n",
              "div.sk-estimator:hover .sk-estimator-doc-link:hover,\n",
              ".sk-estimator-doc-link:hover,\n",
              "div.sk-label-container:hover .sk-estimator-doc-link:hover,\n",
              ".sk-estimator-doc-link:hover {\n",
              "  /* unfitted */\n",
              "  background-color: var(--sklearn-color-unfitted-level-3);\n",
              "  color: var(--sklearn-color-background);\n",
              "  text-decoration: none;\n",
              "}\n",
              "\n",
              "div.sk-estimator.fitted:hover .sk-estimator-doc-link.fitted:hover,\n",
              ".sk-estimator-doc-link.fitted:hover,\n",
              "div.sk-label-container:hover .sk-estimator-doc-link.fitted:hover,\n",
              ".sk-estimator-doc-link.fitted:hover {\n",
              "  /* fitted */\n",
              "  background-color: var(--sklearn-color-fitted-level-3);\n",
              "  color: var(--sklearn-color-background);\n",
              "  text-decoration: none;\n",
              "}\n",
              "\n",
              "/* Span, style for the box shown on hovering the info icon */\n",
              ".sk-estimator-doc-link span {\n",
              "  display: none;\n",
              "  z-index: 9999;\n",
              "  position: relative;\n",
              "  font-weight: normal;\n",
              "  right: .2ex;\n",
              "  padding: .5ex;\n",
              "  margin: .5ex;\n",
              "  width: min-content;\n",
              "  min-width: 20ex;\n",
              "  max-width: 50ex;\n",
              "  color: var(--sklearn-color-text);\n",
              "  box-shadow: 2pt 2pt 4pt #999;\n",
              "  /* unfitted */\n",
              "  background: var(--sklearn-color-unfitted-level-0);\n",
              "  border: .5pt solid var(--sklearn-color-unfitted-level-3);\n",
              "}\n",
              "\n",
              ".sk-estimator-doc-link.fitted span {\n",
              "  /* fitted */\n",
              "  background: var(--sklearn-color-fitted-level-0);\n",
              "  border: var(--sklearn-color-fitted-level-3);\n",
              "}\n",
              "\n",
              ".sk-estimator-doc-link:hover span {\n",
              "  display: block;\n",
              "}\n",
              "\n",
              "/* \"?\"-specific style due to the `<a>` HTML tag */\n",
              "\n",
              "#sk-container-id-1 a.estimator_doc_link {\n",
              "  float: right;\n",
              "  font-size: 1rem;\n",
              "  line-height: 1em;\n",
              "  font-family: monospace;\n",
              "  background-color: var(--sklearn-color-background);\n",
              "  border-radius: 1rem;\n",
              "  height: 1rem;\n",
              "  width: 1rem;\n",
              "  text-decoration: none;\n",
              "  /* unfitted */\n",
              "  color: var(--sklearn-color-unfitted-level-1);\n",
              "  border: var(--sklearn-color-unfitted-level-1) 1pt solid;\n",
              "}\n",
              "\n",
              "#sk-container-id-1 a.estimator_doc_link.fitted {\n",
              "  /* fitted */\n",
              "  border: var(--sklearn-color-fitted-level-1) 1pt solid;\n",
              "  color: var(--sklearn-color-fitted-level-1);\n",
              "}\n",
              "\n",
              "/* On hover */\n",
              "#sk-container-id-1 a.estimator_doc_link:hover {\n",
              "  /* unfitted */\n",
              "  background-color: var(--sklearn-color-unfitted-level-3);\n",
              "  color: var(--sklearn-color-background);\n",
              "  text-decoration: none;\n",
              "}\n",
              "\n",
              "#sk-container-id-1 a.estimator_doc_link.fitted:hover {\n",
              "  /* fitted */\n",
              "  background-color: var(--sklearn-color-fitted-level-3);\n",
              "}\n",
              "</style><div id=\"sk-container-id-1\" class=\"sk-top-container\"><div class=\"sk-text-repr-fallback\"><pre>GradientBoostingClassifier(max_depth=5, min_samples_split=5, n_estimators=300,\n",
              "                           random_state=42, subsample=0.8)</pre><b>In a Jupyter environment, please rerun this cell to show the HTML representation or trust the notebook. <br />On GitHub, the HTML representation is unable to render, please try loading this page with nbviewer.org.</b></div><div class=\"sk-container\" hidden><div class=\"sk-item\"><div class=\"sk-estimator fitted sk-toggleable\"><input class=\"sk-toggleable__control sk-hidden--visually\" id=\"sk-estimator-id-1\" type=\"checkbox\" checked><label for=\"sk-estimator-id-1\" class=\"sk-toggleable__label fitted sk-toggleable__label-arrow\"><div><div>GradientBoostingClassifier</div></div><div><a class=\"sk-estimator-doc-link fitted\" rel=\"noreferrer\" target=\"_blank\" href=\"https://scikit-learn.org/1.6/modules/generated/sklearn.ensemble.GradientBoostingClassifier.html\">?<span>Documentation for GradientBoostingClassifier</span></a><span class=\"sk-estimator-doc-link fitted\">i<span>Fitted</span></span></div></label><div class=\"sk-toggleable__content fitted\"><pre>GradientBoostingClassifier(max_depth=5, min_samples_split=5, n_estimators=300,\n",
              "                           random_state=42, subsample=0.8)</pre></div> </div></div></div></div>"
            ],
            "text/plain": [
              "GradientBoostingClassifier(max_depth=5, min_samples_split=5, n_estimators=300,\n",
              "                           random_state=42, subsample=0.8)"
            ]
          },
          "execution_count": 81,
          "metadata": {},
          "output_type": "execute_result"
        }
      ],
      "source": [
        "# Initialize with best-found hyperparameters\n",
        "final_model = GradientBoostingClassifier(n_estimators=300, learning_rate=0.1, max_depth=5, min_samples_split=5, subsample=0.8, random_state=42)\n",
        "\n",
        "# Train the model\n",
        "final_model.fit(X_train_balanced, y_train_balanced)\n"
      ]
    },
    {
      "cell_type": "code",
      "execution_count": null,
      "metadata": {
        "colab": {
          "base_uri": "https://localhost:8080/"
        },
        "id": "ySXIXHKGV8Ze",
        "outputId": "38de0db1-c83b-457e-93e0-93f52f521674"
      },
      "outputs": [
        {
          "name": "stdout",
          "output_type": "stream",
          "text": [
            "✅ Model saved successfully as 'final_gradient_boost_model.pkl'\n"
          ]
        }
      ],
      "source": [
        "import pickle\n",
        "\n",
        "# Save model to a file\n",
        "with open(\"model.pkl\", \"wb\") as file:\n",
        "    pickle.dump(final_model, file)\n",
        "\n",
        "print(\"✅ Model saved successfully as 'final_gradient_boost_model.pkl'\")\n"
      ]
    }
  ],
  "metadata": {
    "colab": {
      "provenance": []
    },
    "kernelspec": {
      "display_name": "Python 3",
      "name": "python3"
    },
    "language_info": {
      "name": "python",
      "version": "3.12.1"
    }
  },
  "nbformat": 4,
  "nbformat_minor": 0
}
